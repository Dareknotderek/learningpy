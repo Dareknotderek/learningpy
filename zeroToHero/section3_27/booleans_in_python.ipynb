{
 "cells": [
  {
   "cell_type": "markdown",
   "id": "5d452d9d",
   "metadata": {},
   "source": [
    "### Booleans\n",
    "\n",
    "These are operators that convey True or False statements. \n",
    "\n",
    "They become incredibly important later on with control flow and logic. There will be many times to check if a condition has happened to execute a function or segment of code. \n",
    "\n",
    "Booleans in python need to be capitalized: `True` and `False`\n",
    "\n",
    "**Examples:**"
   ]
  },
  {
   "cell_type": "code",
   "execution_count": 1,
   "id": "c52c3ade",
   "metadata": {},
   "outputs": [
    {
     "data": {
      "text/plain": [
       "True"
      ]
     },
     "execution_count": 1,
     "metadata": {},
     "output_type": "execute_result"
    }
   ],
   "source": [
    "True"
   ]
  },
  {
   "cell_type": "code",
   "execution_count": 2,
   "id": "e0e47d78",
   "metadata": {},
   "outputs": [
    {
     "data": {
      "text/plain": [
       "False"
      ]
     },
     "execution_count": 2,
     "metadata": {},
     "output_type": "execute_result"
    }
   ],
   "source": [
    "False"
   ]
  },
  {
   "cell_type": "code",
   "execution_count": 4,
   "id": "38749aa6",
   "metadata": {},
   "outputs": [],
   "source": [
    "#false, calls an error - thinks you're calling an undefined variable. not capitalized, not a boolean"
   ]
  },
  {
   "cell_type": "code",
   "execution_count": 5,
   "id": "3e9e437d",
   "metadata": {},
   "outputs": [
    {
     "data": {
      "text/plain": [
       "bool"
      ]
     },
     "execution_count": 5,
     "metadata": {},
     "output_type": "execute_result"
    }
   ],
   "source": [
    "type(True) #can always check for type"
   ]
  },
  {
   "cell_type": "code",
   "execution_count": 6,
   "id": "ec0e7dc5",
   "metadata": {},
   "outputs": [
    {
     "data": {
      "text/plain": [
       "False"
      ]
     },
     "execution_count": 6,
     "metadata": {},
     "output_type": "execute_result"
    }
   ],
   "source": [
    "1 > 2 #we will explore comparative operators in much more depth soon."
   ]
  },
  {
   "cell_type": "code",
   "execution_count": 7,
   "id": "e5d67f22",
   "metadata": {},
   "outputs": [
    {
     "data": {
      "text/plain": [
       "True"
      ]
     },
     "execution_count": 7,
     "metadata": {},
     "output_type": "execute_result"
    }
   ],
   "source": [
    "2>1"
   ]
  },
  {
   "cell_type": "code",
   "execution_count": 8,
   "id": "58d27d75",
   "metadata": {},
   "outputs": [
    {
     "data": {
      "text/plain": [
       "True"
      ]
     },
     "execution_count": 8,
     "metadata": {},
     "output_type": "execute_result"
    }
   ],
   "source": [
    "1 == 1 #checks for equality, needs the double"
   ]
  },
  {
   "cell_type": "code",
   "execution_count": 9,
   "id": "c13fb921",
   "metadata": {},
   "outputs": [],
   "source": [
    "b = None #keeps place for something we don't want to assign yet"
   ]
  },
  {
   "cell_type": "code",
   "execution_count": null,
   "id": "292da1bf",
   "metadata": {},
   "outputs": [],
   "source": []
  }
 ],
 "metadata": {
  "kernelspec": {
   "display_name": "Python 3 (ipykernel)",
   "language": "python",
   "name": "python3"
  },
  "language_info": {
   "codemirror_mode": {
    "name": "ipython",
    "version": 3
   },
   "file_extension": ".py",
   "mimetype": "text/x-python",
   "name": "python",
   "nbconvert_exporter": "python",
   "pygments_lexer": "ipython3",
   "version": "3.10.9"
  }
 },
 "nbformat": 4,
 "nbformat_minor": 5
}
