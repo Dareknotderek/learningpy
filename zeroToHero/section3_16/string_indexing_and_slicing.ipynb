{
 "cells": [
  {
   "cell_type": "markdown",
   "id": "ca851dfe",
   "metadata": {},
   "source": [
    "## String Indexing and Slicing\n",
    "\n",
    "### Indexing"
   ]
  },
  {
   "cell_type": "code",
   "execution_count": 1,
   "id": "6f55070e",
   "metadata": {},
   "outputs": [],
   "source": [
    "mystring = \"Hello World\""
   ]
  },
  {
   "cell_type": "code",
   "execution_count": 2,
   "id": "93354948",
   "metadata": {},
   "outputs": [
    {
     "data": {
      "text/plain": [
       "'Hello World'"
      ]
     },
     "execution_count": 2,
     "metadata": {},
     "output_type": "execute_result"
    }
   ],
   "source": [
    "mystring"
   ]
  },
  {
   "cell_type": "code",
   "execution_count": 3,
   "id": "8399bbaf",
   "metadata": {},
   "outputs": [
    {
     "data": {
      "text/plain": [
       "'H'"
      ]
     },
     "execution_count": 3,
     "metadata": {},
     "output_type": "execute_result"
    }
   ],
   "source": [
    "mystring[0] #grabs the first character, indexing starts at zero"
   ]
  },
  {
   "cell_type": "code",
   "execution_count": 4,
   "id": "572dbc56",
   "metadata": {},
   "outputs": [
    {
     "data": {
      "text/plain": [
       "'r'"
      ]
     },
     "execution_count": 4,
     "metadata": {},
     "output_type": "execute_result"
    }
   ],
   "source": [
    "mystring[8] #grabs `r`"
   ]
  },
  {
   "cell_type": "code",
   "execution_count": 5,
   "id": "5c8ab9ba",
   "metadata": {},
   "outputs": [
    {
     "data": {
      "text/plain": [
       "'l'"
      ]
     },
     "execution_count": 5,
     "metadata": {},
     "output_type": "execute_result"
    }
   ],
   "source": [
    "mystring[9] #grabs `l` but there is another way to get the second to last in a string"
   ]
  },
  {
   "cell_type": "code",
   "execution_count": 7,
   "id": "3bfd351a",
   "metadata": {},
   "outputs": [
    {
     "data": {
      "text/plain": [
       "'l'"
      ]
     },
     "execution_count": 7,
     "metadata": {},
     "output_type": "execute_result"
    }
   ],
   "source": [
    "mystring[-2] #grabs `l` by going to thse second to last index `-2` with last being `-1` aka reverse indexing"
   ]
  },
  {
   "cell_type": "markdown",
   "id": "13cb5d04",
   "metadata": {},
   "source": [
    "Reverse indexing is useful for when you do not know the length of a string off hand, but need to know the index toward the end of it"
   ]
  },
  {
   "cell_type": "markdown",
   "id": "5f44c4dd",
   "metadata": {},
   "source": [
    "### Slicing\n",
    "\n",
    "This is a little more complicated since we are searching for a subsection. \n",
    "\n",
    "Syntax is string[start:end:step]"
   ]
  },
  {
   "cell_type": "code",
   "execution_count": 8,
   "id": "97b67cc3",
   "metadata": {},
   "outputs": [
    {
     "data": {
      "text/plain": [
       "'Hello World'"
      ]
     },
     "execution_count": 8,
     "metadata": {},
     "output_type": "execute_result"
    }
   ],
   "source": [
    "mystring"
   ]
  },
  {
   "cell_type": "code",
   "execution_count": 10,
   "id": "61af9204",
   "metadata": {},
   "outputs": [],
   "source": [
    "mystring = \"abcdefghijk\" #redefining for simplicity while learning"
   ]
  },
  {
   "cell_type": "code",
   "execution_count": 11,
   "id": "ed1a827d",
   "metadata": {},
   "outputs": [
    {
     "data": {
      "text/plain": [
       "'abcdefghijk'"
      ]
     },
     "execution_count": 11,
     "metadata": {},
     "output_type": "execute_result"
    }
   ],
   "source": [
    "mystring"
   ]
  },
  {
   "cell_type": "code",
   "execution_count": 13,
   "id": "3e2ce78e",
   "metadata": {},
   "outputs": [
    {
     "data": {
      "text/plain": [
       "'cdefghijk'"
      ]
     },
     "execution_count": 13,
     "metadata": {},
     "output_type": "execute_result"
    }
   ],
   "source": [
    "mystring[2:] #no defined end or step, will slice and return all afer position 2, in this case, `c`"
   ]
  },
  {
   "cell_type": "code",
   "execution_count": 14,
   "id": "808e7321",
   "metadata": {},
   "outputs": [
    {
     "data": {
      "text/plain": [
       "'abc'"
      ]
     },
     "execution_count": 14,
     "metadata": {},
     "output_type": "execute_result"
    }
   ],
   "source": [
    "mystring[:3] #starts at `0` and runs up to, not includes, the index at `3`, in this case it will run to `d`, but return `c`"
   ]
  },
  {
   "cell_type": "code",
   "execution_count": 15,
   "id": "93578975",
   "metadata": {},
   "outputs": [
    {
     "data": {
      "text/plain": [
       "'def'"
      ]
     },
     "execution_count": 15,
     "metadata": {},
     "output_type": "execute_result"
    }
   ],
   "source": [
    "mystring[3:6] #starts at `3` runs to but doesn't include `6`"
   ]
  },
  {
   "cell_type": "code",
   "execution_count": 16,
   "id": "3c61998d",
   "metadata": {},
   "outputs": [
    {
     "data": {
      "text/plain": [
       "'bc'"
      ]
     },
     "execution_count": 16,
     "metadata": {},
     "output_type": "execute_result"
    }
   ],
   "source": [
    "mystring[1:3]"
   ]
  },
  {
   "cell_type": "code",
   "execution_count": 17,
   "id": "7d95bfc1",
   "metadata": {},
   "outputs": [
    {
     "data": {
      "text/plain": [
       "'efgh'"
      ]
     },
     "execution_count": 17,
     "metadata": {},
     "output_type": "execute_result"
    }
   ],
   "source": [
    "mystring[4:8]"
   ]
  },
  {
   "cell_type": "code",
   "execution_count": 18,
   "id": "36ffa0d6",
   "metadata": {},
   "outputs": [
    {
     "data": {
      "text/plain": [
       "'abcdefghijk'"
      ]
     },
     "execution_count": 18,
     "metadata": {},
     "output_type": "execute_result"
    }
   ],
   "source": [
    "mystring[::] #all the beginning to all the way to end, uncommon to see this instead of just calling string"
   ]
  },
  {
   "cell_type": "code",
   "execution_count": 19,
   "id": "03df2373",
   "metadata": {},
   "outputs": [
    {
     "data": {
      "text/plain": [
       "'acegik'"
      ]
     },
     "execution_count": 19,
     "metadata": {},
     "output_type": "execute_result"
    }
   ],
   "source": [
    "mystring[::2] #useful for step parameters within a string through "
   ]
  },
  {
   "cell_type": "code",
   "execution_count": 20,
   "id": "c16a3ee4",
   "metadata": {},
   "outputs": [
    {
     "data": {
      "text/plain": [
       "'adgj'"
      ]
     },
     "execution_count": 20,
     "metadata": {},
     "output_type": "execute_result"
    }
   ],
   "source": [
    "mystring[::3]"
   ]
  },
  {
   "cell_type": "code",
   "execution_count": 21,
   "id": "377fea7c",
   "metadata": {},
   "outputs": [
    {
     "data": {
      "text/plain": [
       "'ceg'"
      ]
     },
     "execution_count": 21,
     "metadata": {},
     "output_type": "execute_result"
    }
   ],
   "source": [
    "mystring[2:7:2] #can use in slices as well"
   ]
  },
  {
   "cell_type": "code",
   "execution_count": 23,
   "id": "dbfcc3ce",
   "metadata": {},
   "outputs": [
    {
     "data": {
      "text/plain": [
       "'kjihgfedcba'"
      ]
     },
     "execution_count": 23,
     "metadata": {},
     "output_type": "execute_result"
    }
   ],
   "source": [
    "mystring[::-1] #reverse string trick"
   ]
  },
  {
   "cell_type": "code",
   "execution_count": null,
   "id": "7e267f59",
   "metadata": {},
   "outputs": [],
   "source": []
  }
 ],
 "metadata": {
  "kernelspec": {
   "display_name": "Python 3 (ipykernel)",
   "language": "python",
   "name": "python3"
  },
  "language_info": {
   "codemirror_mode": {
    "name": "ipython",
    "version": 3
   },
   "file_extension": ".py",
   "mimetype": "text/x-python",
   "name": "python",
   "nbconvert_exporter": "python",
   "pygments_lexer": "ipython3",
   "version": "3.10.9"
  }
 },
 "nbformat": 4,
 "nbformat_minor": 5
}
