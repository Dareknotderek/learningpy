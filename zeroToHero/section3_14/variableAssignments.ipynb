{
 "cells": [
  {
   "cell_type": "markdown",
   "id": "644520d0",
   "metadata": {},
   "source": [
    "### Rules for Variable Names\n",
    "\n",
    "- Names cannot start with a number\n",
    "- There can be no spaces in the name (use `_` instead)\n",
    "- Can't use any of the following: ` '\",<>/?|\\()!@#$%^&*~-+ `\n",
    "- PEP8 that names are lowercase or camel case (first is lower)\n",
    "- Avoid words that have special meaning (function) like \"list\" and \"str\""
   ]
  },
  {
   "cell_type": "code",
   "execution_count": 1,
   "id": "f650ade0",
   "metadata": {},
   "outputs": [],
   "source": [
    "a = 5"
   ]
  },
  {
   "cell_type": "code",
   "execution_count": 2,
   "id": "2ff06998",
   "metadata": {},
   "outputs": [
    {
     "data": {
      "text/plain": [
       "5"
      ]
     },
     "execution_count": 2,
     "metadata": {},
     "output_type": "execute_result"
    }
   ],
   "source": [
    "a"
   ]
  },
  {
   "cell_type": "code",
   "execution_count": 3,
   "id": "f61b471d",
   "metadata": {},
   "outputs": [],
   "source": [
    "a = 10 #reassign"
   ]
  },
  {
   "cell_type": "code",
   "execution_count": 4,
   "id": "40d4a4c3",
   "metadata": {},
   "outputs": [
    {
     "data": {
      "text/plain": [
       "10"
      ]
     },
     "execution_count": 4,
     "metadata": {},
     "output_type": "execute_result"
    }
   ],
   "source": [
    "a"
   ]
  },
  {
   "cell_type": "code",
   "execution_count": 5,
   "id": "847fedbd",
   "metadata": {},
   "outputs": [
    {
     "data": {
      "text/plain": [
       "20"
      ]
     },
     "execution_count": 5,
     "metadata": {},
     "output_type": "execute_result"
    }
   ],
   "source": [
    "a + a #add(manipulate) objects"
   ]
  },
  {
   "cell_type": "code",
   "execution_count": 16,
   "id": "2e35cee6",
   "metadata": {},
   "outputs": [],
   "source": [
    "#resassignment with a reference to the same object, running the same cell with reference you can run the cell over and over again affects downwind code\n",
    "#note in / out\n",
    "a=a+a"
   ]
  },
  {
   "cell_type": "code",
   "execution_count": 11,
   "id": "78e77737",
   "metadata": {},
   "outputs": [
    {
     "data": {
      "text/plain": [
       "40"
      ]
     },
     "execution_count": 11,
     "metadata": {},
     "output_type": "execute_result"
    }
   ],
   "source": [
    "a"
   ]
  },
  {
   "cell_type": "code",
   "execution_count": 12,
   "id": "facd9e4a",
   "metadata": {},
   "outputs": [
    {
     "data": {
      "text/plain": [
       "int"
      ]
     },
     "execution_count": 12,
     "metadata": {},
     "output_type": "execute_result"
    }
   ],
   "source": [
    "type(a) #checks type of data stored in variable"
   ]
  },
  {
   "cell_type": "code",
   "execution_count": 15,
   "id": "00dd174c",
   "metadata": {},
   "outputs": [],
   "source": [
    "a = 30.1 #reassigned to a float"
   ]
  },
  {
   "cell_type": "code",
   "execution_count": 14,
   "id": "abfe49ce",
   "metadata": {},
   "outputs": [
    {
     "data": {
      "text/plain": [
       "float"
      ]
     },
     "execution_count": 14,
     "metadata": {},
     "output_type": "execute_result"
    }
   ],
   "source": [
    "type (a)"
   ]
  },
  {
   "cell_type": "markdown",
   "id": "b8467ede",
   "metadata": {},
   "source": [
    "If you ever reassign something like `list` or `int` you can always restart the kernal and nuke the variable assignments\n",
    "\n",
    "You will need to rerun the cells, however"
   ]
  },
  {
   "cell_type": "code",
   "execution_count": 18,
   "id": "725999e3",
   "metadata": {},
   "outputs": [],
   "source": [
    "my_income = 100\n",
    "\n",
    "tax_rate = 0.1\n",
    "\n",
    "my_taxes = my_income * tax_rate"
   ]
  },
  {
   "cell_type": "code",
   "execution_count": 19,
   "id": "02e4a78c",
   "metadata": {},
   "outputs": [
    {
     "data": {
      "text/plain": [
       "10.0"
      ]
     },
     "execution_count": 19,
     "metadata": {},
     "output_type": "execute_result"
    }
   ],
   "source": [
    "my_taxes"
   ]
  },
  {
   "cell_type": "code",
   "execution_count": null,
   "id": "06139393",
   "metadata": {},
   "outputs": [],
   "source": []
  }
 ],
 "metadata": {
  "kernelspec": {
   "display_name": "Python 3 (ipykernel)",
   "language": "python",
   "name": "python3"
  },
  "language_info": {
   "codemirror_mode": {
    "name": "ipython",
    "version": 3
   },
   "file_extension": ".py",
   "mimetype": "text/x-python",
   "name": "python",
   "nbconvert_exporter": "python",
   "pygments_lexer": "ipython3",
   "version": "3.10.9"
  }
 },
 "nbformat": 4,
 "nbformat_minor": 5
}
