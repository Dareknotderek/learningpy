{
 "cells": [
  {
   "cell_type": "code",
   "execution_count": 1,
   "id": "93770b87",
   "metadata": {},
   "outputs": [],
   "source": [
    "x = 25\n",
    "\n",
    "def printer():\n",
    "    x = 50\n",
    "    return x"
   ]
  },
  {
   "cell_type": "code",
   "execution_count": 2,
   "id": "442de961",
   "metadata": {},
   "outputs": [
    {
     "name": "stdout",
     "output_type": "stream",
     "text": [
      "25\n"
     ]
    }
   ],
   "source": [
    "print(x)"
   ]
  },
  {
   "cell_type": "code",
   "execution_count": 6,
   "id": "3ce90ab4",
   "metadata": {},
   "outputs": [
    {
     "name": "stdout",
     "output_type": "stream",
     "text": [
      "50\n"
     ]
    }
   ],
   "source": [
    "print(printer())"
   ]
  },
  {
   "cell_type": "markdown",
   "id": "0072085b",
   "metadata": {},
   "source": [
    "### LEGB Rule:\n",
    "\n",
    "-L: Local -- Names assigned in any way within a function (def of lambda), and not declared gloab in that function\n",
    "\n",
    "-E: Enclosing function locals -- Names in the local scope of any and all enclosing functions (def of lambda), from inner to outer.\n",
    "\n",
    "-G: Global (module) -- Names assigned at the top-level of a module file, or declared global in a def within the file.\n",
    "\n",
    "-B: Built-in (pythin) -- Names preassinged in the built-in name module: open, range, SyntaxError,..."
   ]
  },
  {
   "cell_type": "code",
   "execution_count": 7,
   "id": "c00645ef",
   "metadata": {},
   "outputs": [],
   "source": [
    "# lambda num:num**2 #num is local to the lambda expression"
   ]
  },
  {
   "cell_type": "code",
   "execution_count": 13,
   "id": "e6a82a44",
   "metadata": {},
   "outputs": [],
   "source": [
    "#GLOABL\n",
    "name = 'This is a global string' \n",
    "\n",
    "def greet():\n",
    "    \n",
    "    #ENCLOSING\n",
    "    name = 'Sammy'\n",
    "    def hello():\n",
    "        #LOCAL\n",
    "        name = 'I am a local'\n",
    "        print ('Hello '+name)\n",
    "    hello()"
   ]
  },
  {
   "cell_type": "code",
   "execution_count": 14,
   "id": "2ad52b21",
   "metadata": {},
   "outputs": [
    {
     "name": "stdout",
     "output_type": "stream",
     "text": [
      "Hello I am a local\n"
     ]
    }
   ],
   "source": [
    "greet()"
   ]
  },
  {
   "cell_type": "code",
   "execution_count": 28,
   "id": "9913095d",
   "metadata": {},
   "outputs": [],
   "source": [
    "x = 50 \n",
    "\n",
    "def func(x):\n",
    "    print(f'X is {x}')\n",
    "    \n",
    "    #LOCAL REASSIGNTMENT\n",
    "    x = 'NEW VALUE'\n",
    "    print(f'I JUST LOCALLY CHANGED X to {x}')\n",
    "    return x"
   ]
  },
  {
   "cell_type": "code",
   "execution_count": 31,
   "id": "b9ee3f8c",
   "metadata": {},
   "outputs": [
    {
     "name": "stdout",
     "output_type": "stream",
     "text": [
      "X is 50\n",
      "I JUST LOCALLY CHANGED X to NEW VALUE\n"
     ]
    }
   ],
   "source": [
    "x = func(x) #reassigns global, this is cleaner and safer"
   ]
  },
  {
   "cell_type": "code",
   "execution_count": 32,
   "id": "53a8cb55",
   "metadata": {},
   "outputs": [
    {
     "name": "stdout",
     "output_type": "stream",
     "text": [
      "NEW VALUE\n"
     ]
    }
   ],
   "source": [
    "print(x)"
   ]
  },
  {
   "cell_type": "code",
   "execution_count": null,
   "id": "e7a2dbec",
   "metadata": {},
   "outputs": [],
   "source": []
  }
 ],
 "metadata": {
  "kernelspec": {
   "display_name": "Python 3 (ipykernel)",
   "language": "python",
   "name": "python3"
  },
  "language_info": {
   "codemirror_mode": {
    "name": "ipython",
    "version": 3
   },
   "file_extension": ".py",
   "mimetype": "text/x-python",
   "name": "python",
   "nbconvert_exporter": "python",
   "pygments_lexer": "ipython3",
   "version": "3.10.9"
  }
 },
 "nbformat": 4,
 "nbformat_minor": 5
}
