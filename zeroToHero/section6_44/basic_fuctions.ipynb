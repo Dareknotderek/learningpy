{
 "cells": [
  {
   "cell_type": "code",
   "execution_count": 2,
   "id": "62e21ac5",
   "metadata": {},
   "outputs": [],
   "source": [
    "def say_hello():\n",
    "    \"\"\"\n",
    "    The function will say print hello\n",
    "    \"\"\"\n",
    "    print('Hello')"
   ]
  },
  {
   "cell_type": "code",
   "execution_count": 3,
   "id": "89a6fe87",
   "metadata": {},
   "outputs": [
    {
     "name": "stdout",
     "output_type": "stream",
     "text": [
      "Hello\n"
     ]
    }
   ],
   "source": [
    "say_hello()"
   ]
  },
  {
   "cell_type": "code",
   "execution_count": 4,
   "id": "7f0b09e5",
   "metadata": {},
   "outputs": [],
   "source": [
    "def say_hello_more():\n",
    "    \"\"\"\n",
    "    The function will say print hello and all other prints we want\n",
    "    \"\"\"\n",
    "    print('Hello')\n",
    "    print('are')\n",
    "    print('you?')"
   ]
  },
  {
   "cell_type": "code",
   "execution_count": 6,
   "id": "3bba415e",
   "metadata": {},
   "outputs": [
    {
     "name": "stdout",
     "output_type": "stream",
     "text": [
      "Hello\n",
      "are\n",
      "you?\n"
     ]
    }
   ],
   "source": [
    "say_hello_more() #make sure () is there to call the function>"
   ]
  },
  {
   "cell_type": "code",
   "execution_count": 11,
   "id": "89ee9315",
   "metadata": {},
   "outputs": [],
   "source": [
    "def say_hello(name='Default'): #we can provide a default value here so we don't get errors if an argument isn't passed.\n",
    "    \"\"\"\n",
    "    This will say hello and the name passed in the fuction's (), we could call name whatever we want. \n",
    "    Use variables that make sense.\n",
    "    \"\"\"\n",
    "    print(f'Hello {name}')"
   ]
  },
  {
   "cell_type": "code",
   "execution_count": 12,
   "id": "cb30f4f8",
   "metadata": {},
   "outputs": [
    {
     "name": "stdout",
     "output_type": "stream",
     "text": [
      "Hello Darek\n"
     ]
    }
   ],
   "source": [
    "say_hello('Darek')"
   ]
  },
  {
   "cell_type": "code",
   "execution_count": 14,
   "id": "41b9edd9",
   "metadata": {},
   "outputs": [
    {
     "name": "stdout",
     "output_type": "stream",
     "text": [
      "Hello Default\n"
     ]
    }
   ],
   "source": [
    "say_hello()"
   ]
  },
  {
   "cell_type": "markdown",
   "id": "5f6ab743",
   "metadata": {},
   "source": [
    "**UWAGA** You will likely use return more than print in functions. "
   ]
  },
  {
   "cell_type": "code",
   "execution_count": 16,
   "id": "03f281e0",
   "metadata": {},
   "outputs": [],
   "source": [
    "def add_num(num1,num2):\n",
    "    \"\"\"\n",
    "    returns the sum of the two passed arguments\n",
    "    \"\"\"\n",
    "    return num1+num2"
   ]
  },
  {
   "cell_type": "code",
   "execution_count": 17,
   "id": "ee4b8ed9",
   "metadata": {},
   "outputs": [
    {
     "data": {
      "text/plain": [
       "30"
      ]
     },
     "execution_count": 17,
     "metadata": {},
     "output_type": "execute_result"
    }
   ],
   "source": [
    "add_num(20,10)"
   ]
  },
  {
   "cell_type": "code",
   "execution_count": 18,
   "id": "f7477d15",
   "metadata": {},
   "outputs": [],
   "source": [
    "result=add_num(20,10)"
   ]
  },
  {
   "cell_type": "code",
   "execution_count": 19,
   "id": "b6796e79",
   "metadata": {},
   "outputs": [],
   "source": [
    "def print_result(a,b):\n",
    "    print(a+b)"
   ]
  },
  {
   "cell_type": "code",
   "execution_count": 21,
   "id": "bf858445",
   "metadata": {},
   "outputs": [],
   "source": [
    "def return_result(a,b):\n",
    "    return a+b"
   ]
  },
  {
   "cell_type": "code",
   "execution_count": 24,
   "id": "8d65895c",
   "metadata": {},
   "outputs": [
    {
     "name": "stdout",
     "output_type": "stream",
     "text": [
      "30\n"
     ]
    }
   ],
   "source": [
    "print_result(10,20) #if you attempted to use this to assign a variable it would leave the result as nothing, since it doesn't\n",
    "#return anything, just prints"
   ]
  },
  {
   "cell_type": "code",
   "execution_count": 26,
   "id": "18160cb2",
   "metadata": {},
   "outputs": [],
   "source": [
    "result = return_result(10,20) #this can actually assign to a new variable instead of a return"
   ]
  },
  {
   "cell_type": "code",
   "execution_count": 27,
   "id": "15df5445",
   "metadata": {},
   "outputs": [
    {
     "data": {
      "text/plain": [
       "30"
      ]
     },
     "execution_count": 27,
     "metadata": {},
     "output_type": "execute_result"
    }
   ],
   "source": [
    "result"
   ]
  },
  {
   "cell_type": "markdown",
   "id": "df6921a1",
   "metadata": {},
   "source": [
    "What if you want to print AND return something?"
   ]
  },
  {
   "cell_type": "code",
   "execution_count": 28,
   "id": "c6d0ebe3",
   "metadata": {},
   "outputs": [],
   "source": [
    "def myfunc(a,b):\n",
    "    print(a+b)\n",
    "    return a+b"
   ]
  },
  {
   "cell_type": "code",
   "execution_count": 29,
   "id": "0b9bf390",
   "metadata": {},
   "outputs": [
    {
     "name": "stdout",
     "output_type": "stream",
     "text": [
      "30\n"
     ]
    }
   ],
   "source": [
    "result = myfunc(10,20)"
   ]
  },
  {
   "cell_type": "code",
   "execution_count": 30,
   "id": "4c5392f5",
   "metadata": {},
   "outputs": [
    {
     "data": {
      "text/plain": [
       "30"
      ]
     },
     "execution_count": 30,
     "metadata": {},
     "output_type": "execute_result"
    }
   ],
   "source": [
    "result"
   ]
  },
  {
   "cell_type": "markdown",
   "id": "6091400c",
   "metadata": {},
   "source": [
    "**Remember** Python is dynamically typed, you do not need to define data types immediately. We will cover how to return the correct datatype from users in the future. "
   ]
  },
  {
   "cell_type": "code",
   "execution_count": null,
   "id": "86073664",
   "metadata": {},
   "outputs": [],
   "source": []
  }
 ],
 "metadata": {
  "kernelspec": {
   "display_name": "Python 3 (ipykernel)",
   "language": "python",
   "name": "python3"
  },
  "language_info": {
   "codemirror_mode": {
    "name": "ipython",
    "version": 3
   },
   "file_extension": ".py",
   "mimetype": "text/x-python",
   "name": "python",
   "nbconvert_exporter": "python",
   "pygments_lexer": "ipython3",
   "version": "3.10.9"
  }
 },
 "nbformat": 4,
 "nbformat_minor": 5
}
