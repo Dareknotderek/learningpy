{
 "cells": [
  {
   "cell_type": "markdown",
   "id": "e9770f95",
   "metadata": {},
   "source": [
    "### Sets in Python\n",
    "\n",
    "Sets are unordered collections of unique elements. \n",
    "\n",
    "There can only be one representative of the same object. \n",
    "\n",
    "#### Examples:"
   ]
  },
  {
   "cell_type": "code",
   "execution_count": 3,
   "id": "5c8a5390",
   "metadata": {},
   "outputs": [],
   "source": [
    "myset=set() #opens an empty set"
   ]
  },
  {
   "cell_type": "code",
   "execution_count": 2,
   "id": "c09735d6",
   "metadata": {},
   "outputs": [
    {
     "data": {
      "text/plain": [
       "set()"
      ]
     },
     "execution_count": 2,
     "metadata": {},
     "output_type": "execute_result"
    }
   ],
   "source": [
    "myset"
   ]
  },
  {
   "cell_type": "code",
   "execution_count": 4,
   "id": "b72cdeb5",
   "metadata": {},
   "outputs": [],
   "source": [
    "myset.add(1) #adds an object by putting it in the para"
   ]
  },
  {
   "cell_type": "code",
   "execution_count": 5,
   "id": "c9e36cd7",
   "metadata": {},
   "outputs": [
    {
     "data": {
      "text/plain": [
       "{1}"
      ]
     },
     "execution_count": 5,
     "metadata": {},
     "output_type": "execute_result"
    }
   ],
   "source": [
    "myset "
   ]
  },
  {
   "cell_type": "markdown",
   "id": "4ae8de0a",
   "metadata": {},
   "source": [
    "**UWAGA** \n",
    "\n",
    "Even though it returns curly brackets it is _not_ a dictionary since it doesn't have a value or key pair."
   ]
  },
  {
   "cell_type": "code",
   "execution_count": 6,
   "id": "8ee1c345",
   "metadata": {},
   "outputs": [],
   "source": [
    "myset.add(2)"
   ]
  },
  {
   "cell_type": "code",
   "execution_count": 7,
   "id": "7f135b4d",
   "metadata": {},
   "outputs": [
    {
     "data": {
      "text/plain": [
       "{1, 2}"
      ]
     },
     "execution_count": 7,
     "metadata": {},
     "output_type": "execute_result"
    }
   ],
   "source": [
    "myset"
   ]
  },
  {
   "cell_type": "code",
   "execution_count": 9,
   "id": "5389b8d0",
   "metadata": {},
   "outputs": [],
   "source": [
    "myset.add(2) #try adding `2` a second time"
   ]
  },
  {
   "cell_type": "code",
   "execution_count": 11,
   "id": "722b27af",
   "metadata": {},
   "outputs": [
    {
     "data": {
      "text/plain": [
       "{1, 2}"
      ]
     },
     "execution_count": 11,
     "metadata": {},
     "output_type": "execute_result"
    }
   ],
   "source": [
    "myset #doesn't add a second time because it is a set. Also doesn't throw an error to try to add it"
   ]
  },
  {
   "cell_type": "markdown",
   "id": "99e8e7cf",
   "metadata": {},
   "source": [
    "It may be more useful to cast a list to a set to only retain unique values. "
   ]
  },
  {
   "cell_type": "code",
   "execution_count": 12,
   "id": "a9099ce5",
   "metadata": {},
   "outputs": [],
   "source": [
    "mylist=[1,1,1,1,1,2,2,2,2,2,2,2,3,3,3,3,3,3,1,1,1,1,6,6,66] "
   ]
  },
  {
   "cell_type": "code",
   "execution_count": 13,
   "id": "83fb0953",
   "metadata": {},
   "outputs": [
    {
     "data": {
      "text/plain": [
       "{1, 2, 3, 6, 66}"
      ]
     },
     "execution_count": 13,
     "metadata": {},
     "output_type": "execute_result"
    }
   ],
   "source": [
    "set(mylist) #remember this is no particular order, this will return a set of 1, 2, 3, 6, 66"
   ]
  },
  {
   "cell_type": "code",
   "execution_count": null,
   "id": "4f82c8e2",
   "metadata": {},
   "outputs": [],
   "source": []
  }
 ],
 "metadata": {
  "kernelspec": {
   "display_name": "Python 3 (ipykernel)",
   "language": "python",
   "name": "python3"
  },
  "language_info": {
   "codemirror_mode": {
    "name": "ipython",
    "version": 3
   },
   "file_extension": ".py",
   "mimetype": "text/x-python",
   "name": "python",
   "nbconvert_exporter": "python",
   "pygments_lexer": "ipython3",
   "version": "3.10.9"
  }
 },
 "nbformat": 4,
 "nbformat_minor": 5
}
