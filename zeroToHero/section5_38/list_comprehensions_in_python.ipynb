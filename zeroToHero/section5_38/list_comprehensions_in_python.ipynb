{
 "cells": [
  {
   "cell_type": "markdown",
   "id": "d7b6f852",
   "metadata": {},
   "source": [
    "## List Comprehensions \n",
    "\n",
    "These are quick ways of creating a list within python. \n",
    "\n",
    "This is a good alternative to using a `for` loop along with `.append()` to create a list .\n",
    "\n",
    "Let's look at how this works:"
   ]
  },
  {
   "cell_type": "code",
   "execution_count": 1,
   "id": "87434b4c",
   "metadata": {},
   "outputs": [],
   "source": [
    "mystring = 'hello'"
   ]
  },
  {
   "cell_type": "code",
   "execution_count": 2,
   "id": "f82039ef",
   "metadata": {},
   "outputs": [],
   "source": [
    "mylist = [] #let's start off with how to do this with a for loop and append. \n",
    "\n",
    "for letter in mystring:\n",
    "    mylist.append(letter)"
   ]
  },
  {
   "cell_type": "code",
   "execution_count": 3,
   "id": "97cf3b59",
   "metadata": {},
   "outputs": [
    {
     "data": {
      "text/plain": [
       "['h', 'e', 'l', 'l', 'o']"
      ]
     },
     "execution_count": 3,
     "metadata": {},
     "output_type": "execute_result"
    }
   ],
   "source": [
    "mylist"
   ]
  },
  {
   "cell_type": "markdown",
   "id": "842c8a82",
   "metadata": {},
   "source": [
    "**How can we do the same thing, but with fewer lines of code?**"
   ]
  },
  {
   "cell_type": "code",
   "execution_count": 4,
   "id": "368ed964",
   "metadata": {},
   "outputs": [],
   "source": [
    "mylist = [letter for letter in mystring] #element for element in some iterable list, this is the comprehension"
   ]
  },
  {
   "cell_type": "code",
   "execution_count": 6,
   "id": "18026d3b",
   "metadata": {},
   "outputs": [
    {
     "data": {
      "text/plain": [
       "['h', 'e', 'l', 'l', 'o']"
      ]
     },
     "execution_count": 6,
     "metadata": {},
     "output_type": "execute_result"
    }
   ],
   "source": [
    "mylist #this is just a flattened out for loop"
   ]
  },
  {
   "cell_type": "code",
   "execution_count": 10,
   "id": "b57fccda",
   "metadata": {},
   "outputs": [],
   "source": [
    "mylist = [x for x in 'word'] #just like a for loop, `x` here is a temporary variable name, we can call it whatever we want\n",
    "\n",
    "#elements needs to match "
   ]
  },
  {
   "cell_type": "code",
   "execution_count": 11,
   "id": "40dbe384",
   "metadata": {},
   "outputs": [
    {
     "data": {
      "text/plain": [
       "['w', 'o', 'r', 'd']"
      ]
     },
     "execution_count": 11,
     "metadata": {},
     "output_type": "execute_result"
    }
   ],
   "source": [
    "mylist"
   ]
  },
  {
   "cell_type": "code",
   "execution_count": 12,
   "id": "34a2e89c",
   "metadata": {},
   "outputs": [],
   "source": [
    "mylist = [num for num in range(0,11)] #can flatten out the for loop too"
   ]
  },
  {
   "cell_type": "code",
   "execution_count": 13,
   "id": "7e948418",
   "metadata": {},
   "outputs": [
    {
     "data": {
      "text/plain": [
       "[0, 1, 2, 3, 4, 5, 6, 7, 8, 9, 10]"
      ]
     },
     "execution_count": 13,
     "metadata": {},
     "output_type": "execute_result"
    }
   ],
   "source": [
    "mylist"
   ]
  },
  {
   "cell_type": "markdown",
   "id": "e16e0b86",
   "metadata": {},
   "source": [
    "**We can even begin to perform operations on the first variable name in this flattened our for loop**"
   ]
  },
  {
   "cell_type": "code",
   "execution_count": 18,
   "id": "b2bf503c",
   "metadata": {},
   "outputs": [],
   "source": [
    "mylist = [num**2 for num in range(0,11)] #this essentially appends whatever the first variable happens to be. \n",
    "\n",
    "#think of the first variable as the appended variable within the unflatted for loop"
   ]
  },
  {
   "cell_type": "code",
   "execution_count": 19,
   "id": "fdbb1784",
   "metadata": {},
   "outputs": [
    {
     "data": {
      "text/plain": [
       "[0, 1, 4, 9, 16, 25, 36, 49, 64, 81, 100]"
      ]
     },
     "execution_count": 19,
     "metadata": {},
     "output_type": "execute_result"
    }
   ],
   "source": [
    "mylist"
   ]
  },
  {
   "cell_type": "code",
   "execution_count": 20,
   "id": "f47a6424",
   "metadata": {},
   "outputs": [],
   "source": [
    "mylist = [x for x in range(0,11) if x%2==0] #we can also add if statements into this\n",
    "\n",
    "#this will only add in even numbers"
   ]
  },
  {
   "cell_type": "code",
   "execution_count": 21,
   "id": "29f9ae71",
   "metadata": {},
   "outputs": [
    {
     "data": {
      "text/plain": [
       "[0, 2, 4, 6, 8, 10]"
      ]
     },
     "execution_count": 21,
     "metadata": {},
     "output_type": "execute_result"
    }
   ],
   "source": [
    "mylist"
   ]
  },
  {
   "cell_type": "code",
   "execution_count": 24,
   "id": "6f1f55cf",
   "metadata": {},
   "outputs": [],
   "source": [
    "mylist = [x**2 for x in range(0,11) if x%2==0] #squares of even numbers only"
   ]
  },
  {
   "cell_type": "code",
   "execution_count": 25,
   "id": "439f90ff",
   "metadata": {},
   "outputs": [
    {
     "data": {
      "text/plain": [
       "[0, 4, 16, 36, 64, 100]"
      ]
     },
     "execution_count": 25,
     "metadata": {},
     "output_type": "execute_result"
    }
   ],
   "source": [
    "mylist"
   ]
  },
  {
   "cell_type": "code",
   "execution_count": 26,
   "id": "f41807d3",
   "metadata": {},
   "outputs": [],
   "source": [
    "celcius = [0,10,20,34.5]\n",
    "\n",
    "fahrenheit = [((9/5)*temp + 32) for temp in celcius] #this will conver the celcius temps to F"
   ]
  },
  {
   "cell_type": "code",
   "execution_count": 27,
   "id": "98548932",
   "metadata": {},
   "outputs": [
    {
     "data": {
      "text/plain": [
       "[32.0, 50.0, 68.0, 94.1]"
      ]
     },
     "execution_count": 27,
     "metadata": {},
     "output_type": "execute_result"
    }
   ],
   "source": [
    "fahrenheit"
   ]
  },
  {
   "cell_type": "code",
   "execution_count": 28,
   "id": "f5d2f5fd",
   "metadata": {},
   "outputs": [],
   "source": [
    "fahrenheit = [] #this should be the same thing\n",
    "\n",
    "for temp in celcius:\n",
    "    fahrenheit.append((9/5)*temp + 32)"
   ]
  },
  {
   "cell_type": "code",
   "execution_count": 29,
   "id": "82cfdffb",
   "metadata": {},
   "outputs": [
    {
     "data": {
      "text/plain": [
       "[32.0, 50.0, 68.0, 94.1]"
      ]
     },
     "execution_count": 29,
     "metadata": {},
     "output_type": "execute_result"
    }
   ],
   "source": [
    "fahrenheit"
   ]
  },
  {
   "cell_type": "markdown",
   "id": "02589e86",
   "metadata": {},
   "source": [
    "**UWAGA** Slick one liners are cool, but remember that readability is the singular most important thing for pythonistas. \n",
    "\n",
    "`if/elif/else` statements can be done with list comprehensions, but it isn't super common becauase of the readability issues associated with it. \n",
    "\n",
    "Here are examples of it, but it's probably best to use the unflattened version of `if/elif/else` statements.\n",
    "\n",
    "**Remember** Be kind to your future self."
   ]
  },
  {
   "cell_type": "code",
   "execution_count": 30,
   "id": "d7c21ca0",
   "metadata": {},
   "outputs": [],
   "source": [
    "results = [x if x%2==0 else 'ODD' for x in range(0,11)] #this is essentially reversed than the list comprehensions above"
   ]
  },
  {
   "cell_type": "code",
   "execution_count": 31,
   "id": "523371a0",
   "metadata": {},
   "outputs": [
    {
     "data": {
      "text/plain": [
       "[0, 'ODD', 2, 'ODD', 4, 'ODD', 6, 'ODD', 8, 'ODD', 10]"
      ]
     },
     "execution_count": 31,
     "metadata": {},
     "output_type": "execute_result"
    }
   ],
   "source": [
    "results"
   ]
  },
  {
   "cell_type": "markdown",
   "id": "57b954dd",
   "metadata": {},
   "source": [
    "**Nested Loops** can also be done as comprehensions, but again, take it easy at the beginning. "
   ]
  },
  {
   "cell_type": "code",
   "execution_count": 34,
   "id": "8a6489b2",
   "metadata": {},
   "outputs": [],
   "source": [
    "mylist = []\n",
    "\n",
    "for x in [2,4,6]:\n",
    "    for y in [1,10,1000]:\n",
    "        mylist.append(x*y)"
   ]
  },
  {
   "cell_type": "code",
   "execution_count": 35,
   "id": "b41518bc",
   "metadata": {},
   "outputs": [
    {
     "data": {
      "text/plain": [
       "[2, 20, 2000, 4, 40, 4000, 6, 60, 6000]"
      ]
     },
     "execution_count": 35,
     "metadata": {},
     "output_type": "execute_result"
    }
   ],
   "source": [
    "mylist"
   ]
  },
  {
   "cell_type": "code",
   "execution_count": 36,
   "id": "f69fbd16",
   "metadata": {},
   "outputs": [],
   "source": [
    "mylist = [x*y for x in [2,4,6] for y in [1,10,1000]]"
   ]
  },
  {
   "cell_type": "code",
   "execution_count": 37,
   "id": "44fbaa7a",
   "metadata": {},
   "outputs": [
    {
     "data": {
      "text/plain": [
       "[2, 20, 2000, 4, 40, 4000, 6, 60, 6000]"
      ]
     },
     "execution_count": 37,
     "metadata": {},
     "output_type": "execute_result"
    }
   ],
   "source": [
    "mylist"
   ]
  },
  {
   "cell_type": "code",
   "execution_count": null,
   "id": "a4beac33",
   "metadata": {},
   "outputs": [],
   "source": []
  }
 ],
 "metadata": {
  "kernelspec": {
   "display_name": "Python 3 (ipykernel)",
   "language": "python",
   "name": "python3"
  },
  "language_info": {
   "codemirror_mode": {
    "name": "ipython",
    "version": 3
   },
   "file_extension": ".py",
   "mimetype": "text/x-python",
   "name": "python",
   "nbconvert_exporter": "python",
   "pygments_lexer": "ipython3",
   "version": "3.10.9"
  }
 },
 "nbformat": 4,
 "nbformat_minor": 5
}
