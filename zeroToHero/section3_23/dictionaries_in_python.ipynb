{
 "cells": [
  {
   "cell_type": "markdown",
   "id": "491e45f2",
   "metadata": {},
   "source": [
    "### Dictionaries\n",
    "\n",
    "Dictionaries are unordered mappings for storing objects with a key-value pairing. Unlike lists, objects are not ordered within the dictionary, but can be called by the key-value pair. \n",
    "\n",
    "This is beneficial since the user will not need to know the index to call an object. \n",
    "\n",
    "Dictionaries use curly braces and colons to signify the keys and the associated values:\n",
    "\n",
    "`{'key1':'value1', 'key2':'value2'}`\n",
    "\n",
    "#### Uses\n",
    "\n",
    "**Dictionaries** objects retried by key name - cannot be sorted and are unordered.\n",
    "\n",
    "Example: quickly retrieve a value without knowing index location.\n",
    "\n",
    "**Lists** objects are retrieved by location. Since they are ordered they can be indexed or sliced. \n",
    "\n",
    "Example: Desire to index, slice, or sort objects. "
   ]
  },
  {
   "cell_type": "code",
   "execution_count": 1,
   "id": "57bc5812",
   "metadata": {},
   "outputs": [],
   "source": [
    "my_dict = {'key1':'value1', 'key2':'value2'}"
   ]
  },
  {
   "cell_type": "code",
   "execution_count": 2,
   "id": "94fe7fba",
   "metadata": {},
   "outputs": [
    {
     "data": {
      "text/plain": [
       "{'key1': 'value1', 'key2': 'value2'}"
      ]
     },
     "execution_count": 2,
     "metadata": {},
     "output_type": "execute_result"
    }
   ],
   "source": [
    "my_dict"
   ]
  },
  {
   "cell_type": "code",
   "execution_count": 3,
   "id": "e10c1e21",
   "metadata": {},
   "outputs": [
    {
     "data": {
      "text/plain": [
       "'value1'"
      ]
     },
     "execution_count": 3,
     "metadata": {},
     "output_type": "execute_result"
    }
   ],
   "source": [
    "my_dict['key1']"
   ]
  },
  {
   "cell_type": "markdown",
   "id": "2bb1fcbb",
   "metadata": {},
   "source": [
    "Prices in a store could be a good example of when a dictionary makes a lot of sense. "
   ]
  },
  {
   "cell_type": "code",
   "execution_count": 4,
   "id": "72f2064c",
   "metadata": {},
   "outputs": [],
   "source": [
    "prices_lookup = {'apple':2.99, 'oranges':1.99, 'milk':5.80}"
   ]
  },
  {
   "cell_type": "code",
   "execution_count": 5,
   "id": "aa488474",
   "metadata": {},
   "outputs": [
    {
     "data": {
      "text/plain": [
       "2.99"
      ]
     },
     "execution_count": 5,
     "metadata": {},
     "output_type": "execute_result"
    }
   ],
   "source": [
    "prices_lookup['apple']"
   ]
  },
  {
   "cell_type": "markdown",
   "id": "767ed1af",
   "metadata": {},
   "source": [
    "Dictionaries can hold a ton of different object types, including nesting lists and dictionaries. "
   ]
  },
  {
   "cell_type": "code",
   "execution_count": 6,
   "id": "2fb9f8dc",
   "metadata": {},
   "outputs": [],
   "source": [
    "d = {'k1':123, 'k2':[0,1,2], 'k3':{'insideKey1':100,'insideKey2':1000}}"
   ]
  },
  {
   "cell_type": "code",
   "execution_count": 7,
   "id": "9799c20b",
   "metadata": {},
   "outputs": [
    {
     "data": {
      "text/plain": [
       "[0, 1, 2]"
      ]
     },
     "execution_count": 7,
     "metadata": {},
     "output_type": "execute_result"
    }
   ],
   "source": [
    "d['k2']"
   ]
  },
  {
   "cell_type": "code",
   "execution_count": 8,
   "id": "bf76d5fe",
   "metadata": {},
   "outputs": [
    {
     "data": {
      "text/plain": [
       "{'insideKey1': 100, 'insideKey2': 1000}"
      ]
     },
     "execution_count": 8,
     "metadata": {},
     "output_type": "execute_result"
    }
   ],
   "source": [
    "d['k3']"
   ]
  },
  {
   "cell_type": "code",
   "execution_count": 9,
   "id": "4cebd56a",
   "metadata": {},
   "outputs": [
    {
     "data": {
      "text/plain": [
       "100"
      ]
     },
     "execution_count": 9,
     "metadata": {},
     "output_type": "execute_result"
    }
   ],
   "source": [
    "d['k3']['insideKey1'] #first bracket looks up key value, then the second dives into nested dictionary key pair"
   ]
  },
  {
   "cell_type": "code",
   "execution_count": 10,
   "id": "02c8d6ee",
   "metadata": {},
   "outputs": [
    {
     "data": {
      "text/plain": [
       "2"
      ]
     },
     "execution_count": 10,
     "metadata": {},
     "output_type": "execute_result"
    }
   ],
   "source": [
    "d['k2'][2] #also works for nested lists. First key, then index in the called list."
   ]
  },
  {
   "cell_type": "code",
   "execution_count": 13,
   "id": "6afa6697",
   "metadata": {},
   "outputs": [],
   "source": [
    "d = {'key1':['a','b','c','d']} #additional example for clarity"
   ]
  },
  {
   "cell_type": "code",
   "execution_count": 14,
   "id": "da5942ac",
   "metadata": {},
   "outputs": [
    {
     "data": {
      "text/plain": [
       "{'key1': ['a', 'b', 'c', 'd']}"
      ]
     },
     "execution_count": 14,
     "metadata": {},
     "output_type": "execute_result"
    }
   ],
   "source": [
    "d"
   ]
  },
  {
   "cell_type": "code",
   "execution_count": 15,
   "id": "4b4e44b5",
   "metadata": {},
   "outputs": [],
   "source": [
    "mylist=d['key1']"
   ]
  },
  {
   "cell_type": "code",
   "execution_count": 16,
   "id": "5a17690b",
   "metadata": {},
   "outputs": [
    {
     "data": {
      "text/plain": [
       "['a', 'b', 'c', 'd']"
      ]
     },
     "execution_count": 16,
     "metadata": {},
     "output_type": "execute_result"
    }
   ],
   "source": [
    "mylist"
   ]
  },
  {
   "cell_type": "code",
   "execution_count": 17,
   "id": "0fcabc37",
   "metadata": {},
   "outputs": [],
   "source": [
    "letter=mylist[2]"
   ]
  },
  {
   "cell_type": "code",
   "execution_count": 18,
   "id": "08093c19",
   "metadata": {},
   "outputs": [
    {
     "data": {
      "text/plain": [
       "'c'"
      ]
     },
     "execution_count": 18,
     "metadata": {},
     "output_type": "execute_result"
    }
   ],
   "source": [
    "letter"
   ]
  },
  {
   "cell_type": "code",
   "execution_count": 21,
   "id": "f30b998a",
   "metadata": {},
   "outputs": [
    {
     "data": {
      "text/plain": [
       "'C'"
      ]
     },
     "execution_count": 21,
     "metadata": {},
     "output_type": "execute_result"
    }
   ],
   "source": [
    "letter.upper() #again, not in place, to save will need a reassignment. "
   ]
  },
  {
   "cell_type": "code",
   "execution_count": 22,
   "id": "1e454d1b",
   "metadata": {},
   "outputs": [
    {
     "data": {
      "text/plain": [
       "'c'"
      ]
     },
     "execution_count": 22,
     "metadata": {},
     "output_type": "execute_result"
    }
   ],
   "source": [
    "letter"
   ]
  },
  {
   "cell_type": "code",
   "execution_count": 23,
   "id": "1699872f",
   "metadata": {},
   "outputs": [
    {
     "data": {
      "text/plain": [
       "'C'"
      ]
     },
     "execution_count": 23,
     "metadata": {},
     "output_type": "execute_result"
    }
   ],
   "source": [
    "d['key1'][2].upper() #does the additional example _way_ more efficiently. "
   ]
  },
  {
   "cell_type": "markdown",
   "id": "64a2ae4a",
   "metadata": {},
   "source": [
    "**Let's add new key value pairs to a dictionary**"
   ]
  },
  {
   "cell_type": "code",
   "execution_count": 32,
   "id": "e96d8781",
   "metadata": {},
   "outputs": [],
   "source": [
    "d ={'k1':100, 'k2':200}"
   ]
  },
  {
   "cell_type": "code",
   "execution_count": 33,
   "id": "28a1e232",
   "metadata": {},
   "outputs": [
    {
     "data": {
      "text/plain": [
       "{'k1': 100, 'k2': 200}"
      ]
     },
     "execution_count": 33,
     "metadata": {},
     "output_type": "execute_result"
    }
   ],
   "source": [
    "d"
   ]
  },
  {
   "cell_type": "code",
   "execution_count": 34,
   "id": "be716022",
   "metadata": {},
   "outputs": [],
   "source": [
    "d['key3'] = 300 #adds to the dictionary "
   ]
  },
  {
   "cell_type": "code",
   "execution_count": 35,
   "id": "6e1e19f7",
   "metadata": {},
   "outputs": [
    {
     "data": {
      "text/plain": [
       "{'k1': 100, 'k2': 200, 'key3': 300}"
      ]
     },
     "execution_count": 35,
     "metadata": {},
     "output_type": "execute_result"
    }
   ],
   "source": [
    "d"
   ]
  },
  {
   "cell_type": "code",
   "execution_count": 36,
   "id": "97f7c77f",
   "metadata": {},
   "outputs": [],
   "source": [
    "d['k1'] = 'NEW VALUE' #reassigns value of a key in a dictionary"
   ]
  },
  {
   "cell_type": "code",
   "execution_count": 37,
   "id": "dae653c8",
   "metadata": {},
   "outputs": [
    {
     "data": {
      "text/plain": [
       "{'k1': 'NEW VALUE', 'k2': 200, 'key3': 300}"
      ]
     },
     "execution_count": 37,
     "metadata": {},
     "output_type": "execute_result"
    }
   ],
   "source": [
    "d"
   ]
  },
  {
   "cell_type": "markdown",
   "id": "d7b2cdf9",
   "metadata": {},
   "source": [
    "**Useful methods**"
   ]
  },
  {
   "cell_type": "code",
   "execution_count": 38,
   "id": "48d24483",
   "metadata": {},
   "outputs": [],
   "source": [
    "d={'k1': 100, 'k2': 200, 'key3': 300}"
   ]
  },
  {
   "cell_type": "code",
   "execution_count": 41,
   "id": "8a031667",
   "metadata": {},
   "outputs": [
    {
     "data": {
      "text/plain": [
       "dict_keys(['k1', 'k2', 'key3'])"
      ]
     },
     "execution_count": 41,
     "metadata": {},
     "output_type": "execute_result"
    }
   ],
   "source": [
    "d.keys() #shows all keys"
   ]
  },
  {
   "cell_type": "code",
   "execution_count": 42,
   "id": "49b7b2f1",
   "metadata": {},
   "outputs": [
    {
     "data": {
      "text/plain": [
       "dict_values([100, 200, 300])"
      ]
     },
     "execution_count": 42,
     "metadata": {},
     "output_type": "execute_result"
    }
   ],
   "source": [
    "d.values() #shows all values"
   ]
  },
  {
   "cell_type": "code",
   "execution_count": 43,
   "id": "208da8fe",
   "metadata": {},
   "outputs": [
    {
     "data": {
      "text/plain": [
       "dict_items([('k1', 100), ('k2', 200), ('key3', 300)])"
      ]
     },
     "execution_count": 43,
     "metadata": {},
     "output_type": "execute_result"
    }
   ],
   "source": [
    "d.items() #shows it all, shows as tuples. "
   ]
  },
  {
   "cell_type": "code",
   "execution_count": null,
   "id": "c3c31a69",
   "metadata": {},
   "outputs": [],
   "source": []
  }
 ],
 "metadata": {
  "kernelspec": {
   "display_name": "Python 3 (ipykernel)",
   "language": "python",
   "name": "python3"
  },
  "language_info": {
   "codemirror_mode": {
    "name": "ipython",
    "version": 3
   },
   "file_extension": ".py",
   "mimetype": "text/x-python",
   "name": "python",
   "nbconvert_exporter": "python",
   "pygments_lexer": "ipython3",
   "version": "3.10.9"
  }
 },
 "nbformat": 4,
 "nbformat_minor": 5
}
