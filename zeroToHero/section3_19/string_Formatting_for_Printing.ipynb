{
 "cells": [
  {
   "cell_type": "markdown",
   "id": "b9d0a015",
   "metadata": {},
   "source": [
    "## String Formatting for Printing\n",
    "\n",
    "We'll want to inject a variable into a string for printing regularly. This is know as \"interpolation\".\n",
    "\n",
    "**Example:**\n",
    "- `my_name` = \"Jose\"\n",
    "- `print(\"Hello \"+ my_name)`\n",
    "\n",
    "There are a few ways to do this. \n",
    "\n",
    "In this lesson, we will explore two methods to do this:\n",
    "\n",
    "- `.format()` method\n",
    "- f-strings (formatted string literals), this is a newer method\n",
    "\n",
    "### Formatting with the `.format()` method\n",
    "\n",
    "This is a good way to formata objects in strings for print statements. Syntax is:\n",
    "\n",
    "`\"string here {} then also {}\".format(\"sometehing1\",\"something2\")`\n",
    "\n",
    "aka - we will have the string defined, inside of it we will have the curly braces in place for the variables we will insert. \n",
    "\n",
    "Then in the `.format()` section, we will put the varibles we'd like to inject. \n",
    "\n",
    "Let's take a look. "
   ]
  },
  {
   "cell_type": "code",
   "execution_count": 2,
   "id": "d4a13483",
   "metadata": {},
   "outputs": [
    {
     "name": "stdout",
     "output_type": "stream",
     "text": [
      "This is a string INSERTED\n"
     ]
    }
   ],
   "source": [
    "print(\"This is a string {}\".format(\"INSERTED\")) #strings can be inserted by index position"
   ]
  },
  {
   "cell_type": "code",
   "execution_count": 4,
   "id": "6436ac90",
   "metadata": {},
   "outputs": [
    {
     "name": "stdout",
     "output_type": "stream",
     "text": [
      "The fox brown quick\n"
     ]
    }
   ],
   "source": [
    "print(\"The {} {} {}\".format(\"fox\", \"brown\", \"quick\")) #inserts based on undefined index/fcfs"
   ]
  },
  {
   "cell_type": "code",
   "execution_count": 6,
   "id": "065acb44",
   "metadata": {},
   "outputs": [
    {
     "name": "stdout",
     "output_type": "stream",
     "text": [
      "The quick brown fox\n"
     ]
    }
   ],
   "source": [
    "print(\"The {2} {1} {0}\".format(\"fox\", \"brown\", \"quick\")) #inserts based on index osition of the list, see curly brackets. "
   ]
  },
  {
   "cell_type": "code",
   "execution_count": 7,
   "id": "224e9fef",
   "metadata": {},
   "outputs": [
    {
     "name": "stdout",
     "output_type": "stream",
     "text": [
      "The fox fox fox\n"
     ]
    }
   ],
   "source": [
    "print(\"The {0} {0} {0}\".format(\"fox\", \"brown\", \"quick\")) #also can repeat and ignore other index positions."
   ]
  },
  {
   "cell_type": "code",
   "execution_count": 13,
   "id": "ad31c14a",
   "metadata": {},
   "outputs": [
    {
     "name": "stdout",
     "output_type": "stream",
     "text": [
      "The quick brown fox\n"
     ]
    }
   ],
   "source": [
    "print(\"The {q} {b} {f}\".format(f=\"fox\", b=\"brown\", q=\"quick\")) #allows for variable assignment of index positions for insertion. \n",
    "\n",
    "#you can use keywords for repetition too"
   ]
  },
  {
   "cell_type": "markdown",
   "id": "95439284",
   "metadata": {},
   "source": [
    "#### Float formatting follows `{value:width.percision f}`"
   ]
  },
  {
   "cell_type": "code",
   "execution_count": 14,
   "id": "c3f9a09d",
   "metadata": {},
   "outputs": [],
   "source": [
    "result = 100/777"
   ]
  },
  {
   "cell_type": "code",
   "execution_count": 15,
   "id": "9516a2ad",
   "metadata": {},
   "outputs": [
    {
     "data": {
      "text/plain": [
       "0.1287001287001287"
      ]
     },
     "execution_count": 15,
     "metadata": {},
     "output_type": "execute_result"
    }
   ],
   "source": [
    "result"
   ]
  },
  {
   "cell_type": "code",
   "execution_count": 17,
   "id": "723780af",
   "metadata": {},
   "outputs": [
    {
     "name": "stdout",
     "output_type": "stream",
     "text": [
      "The result was 0.1287001287001287\n"
     ]
    }
   ],
   "source": [
    "print(\"The result was {}\".format(result)) "
   ]
  },
  {
   "cell_type": "code",
   "execution_count": 18,
   "id": "7f1121ab",
   "metadata": {},
   "outputs": [
    {
     "name": "stdout",
     "output_type": "stream",
     "text": [
      "The result was 0.1287001287001287\n"
     ]
    }
   ],
   "source": [
    "print(\"The result was {r}\".format(r=result)) "
   ]
  },
  {
   "cell_type": "code",
   "execution_count": 29,
   "id": "979e661e",
   "metadata": {},
   "outputs": [
    {
     "name": "stdout",
     "output_type": "stream",
     "text": [
      "The result was 0.129\n"
     ]
    }
   ],
   "source": [
    "print(\"The result was {r:1.3f}\".format(r=result)) \n",
    "\n",
    "#we can adjust width and percision of formatted answer. We can change level of percision and width.\n",
    "\n",
    "#percision is what will likely be played around with more than width, generally keep width at 1\n",
    "\n",
    "#this example will reduce the large, percise number to a decimal place of 3, rounding up or down accordingly"
   ]
  },
  {
   "cell_type": "code",
   "execution_count": 30,
   "id": "0e067cfa",
   "metadata": {},
   "outputs": [
    {
     "name": "stdout",
     "output_type": "stream",
     "text": [
      "The result was      0.129\n"
     ]
    }
   ],
   "source": [
    "print(\"The result was {r:10.3f}\".format(r=result)) #the width adds withspace, but there may be situations where you want to add\n",
    "\n",
    "#white space, so width is available as an option. "
   ]
  },
  {
   "cell_type": "code",
   "execution_count": 31,
   "id": "10cbf069",
   "metadata": {},
   "outputs": [
    {
     "name": "stdout",
     "output_type": "stream",
     "text": [
      "The result was    0.12870\n"
     ]
    }
   ],
   "source": [
    "print(\"The result was {r:10.5f}\".format(r=result)) #if we have more numbers passed the decimal point, we will take up less\n",
    "\n",
    "#white space."
   ]
  },
  {
   "cell_type": "code",
   "execution_count": 32,
   "id": "3a02cf39",
   "metadata": {},
   "outputs": [],
   "source": [
    "result = 104.12345"
   ]
  },
  {
   "cell_type": "code",
   "execution_count": 34,
   "id": "c4ba0b22",
   "metadata": {},
   "outputs": [
    {
     "name": "stdout",
     "output_type": "stream",
     "text": [
      "The result was 104.12345\n"
     ]
    }
   ],
   "source": [
    "print(\"The result was {r:1.5f}\".format(r=result)) #pretty much the same thing, lets us play around with formaatting"
   ]
  },
  {
   "cell_type": "markdown",
   "id": "afeb1d0b",
   "metadata": {},
   "source": [
    "### Formatting with \"f-string-literals\"\n",
    "\n",
    "This allows skipping of using `.format()` and allowing for write the variables directly in the string. "
   ]
  },
  {
   "cell_type": "code",
   "execution_count": 35,
   "id": "05b35006",
   "metadata": {},
   "outputs": [],
   "source": [
    "name = \"Darek\""
   ]
  },
  {
   "cell_type": "code",
   "execution_count": 39,
   "id": "4d2676d8",
   "metadata": {},
   "outputs": [
    {
     "name": "stdout",
     "output_type": "stream",
     "text": [
      "Hello his name is Darek.\n"
     ]
    }
   ],
   "source": [
    "print(\"Hello his name is {}.\".format(name)) #old way"
   ]
  },
  {
   "cell_type": "code",
   "execution_count": 42,
   "id": "cc3b64a3",
   "metadata": {},
   "outputs": [
    {
     "name": "stdout",
     "output_type": "stream",
     "text": [
      "Hello his name is Darek.\n"
     ]
    }
   ],
   "source": [
    "print(f\"Hello his name is {name}.\") #new way, lets you write variable name directly in curly braces"
   ]
  },
  {
   "cell_type": "code",
   "execution_count": 44,
   "id": "998fa9e2",
   "metadata": {},
   "outputs": [],
   "source": [
    "name = \"Sam\"\n",
    "age = 3"
   ]
  },
  {
   "cell_type": "code",
   "execution_count": 45,
   "id": "33776786",
   "metadata": {},
   "outputs": [
    {
     "name": "stdout",
     "output_type": "stream",
     "text": [
      "Sam is 3 years old.\n"
     ]
    }
   ],
   "source": [
    "print(f\"{name} is {age} years old.\")"
   ]
  },
  {
   "cell_type": "code",
   "execution_count": null,
   "id": "c0f61cdc",
   "metadata": {},
   "outputs": [],
   "source": []
  }
 ],
 "metadata": {
  "kernelspec": {
   "display_name": "Python 3 (ipykernel)",
   "language": "python",
   "name": "python3"
  },
  "language_info": {
   "codemirror_mode": {
    "name": "ipython",
    "version": 3
   },
   "file_extension": ".py",
   "mimetype": "text/x-python",
   "name": "python",
   "nbconvert_exporter": "python",
   "pygments_lexer": "ipython3",
   "version": "3.10.9"
  }
 },
 "nbformat": 4,
 "nbformat_minor": 5
}
