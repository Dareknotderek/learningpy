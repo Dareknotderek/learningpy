{
 "cells": [
  {
   "cell_type": "markdown",
   "id": "9e6a6bd4",
   "metadata": {},
   "source": [
    "## *args and **kwargs\n",
    "\n",
    "These stand for arguments and keyword arguments. We'll eventually want to be able to accept an arbitrary number of arguments without having to predefine them always. That's where these come in. "
   ]
  },
  {
   "cell_type": "code",
   "execution_count": 7,
   "id": "a8638612",
   "metadata": {},
   "outputs": [],
   "source": [
    "def myfunc(a,b):\n",
    "    #returns 5% of the sum of a and b\n",
    "    return sum((a,b))*0.05"
   ]
  },
  {
   "cell_type": "code",
   "execution_count": 6,
   "id": "22846c80",
   "metadata": {},
   "outputs": [
    {
     "data": {
      "text/plain": [
       "5.0"
      ]
     },
     "execution_count": 6,
     "metadata": {},
     "output_type": "execute_result"
    }
   ],
   "source": [
    "myfunc(40,60)"
   ]
  },
  {
   "cell_type": "markdown",
   "id": "9dfdac28",
   "metadata": {},
   "source": [
    "**UWAGA** The above uses positional arguments. The arguments are assigned to specific positions that are predefined. What if we want to work with more than 2 numbers without passing in a good amount of numbers assigned to zero by default. "
   ]
  },
  {
   "cell_type": "code",
   "execution_count": 12,
   "id": "8f87b9de",
   "metadata": {},
   "outputs": [],
   "source": [
    "def myfunc(*args):\n",
    "    #this allows us to treat this as a tuple of arguments coming in, it passes in as tuples by default\n",
    "    return sum(args) * 0.05 \n",
    "\n",
    "#if we were to print args here as well, we'd just see the arguments passed in as a tuple"
   ]
  },
  {
   "cell_type": "code",
   "execution_count": 13,
   "id": "6cb4b3dd",
   "metadata": {},
   "outputs": [
    {
     "data": {
      "text/plain": [
       "12.200000000000001"
      ]
     },
     "execution_count": 13,
     "metadata": {},
     "output_type": "execute_result"
    }
   ],
   "source": [
    "myfunc(40,60,100,1,43)"
   ]
  },
  {
   "cell_type": "markdown",
   "id": "ebb74122",
   "metadata": {},
   "source": [
    "**UWAGA**, we can use whatever we want in place of `args` so long as the `*` is there and the replacement is consistent within dependant code. Convention is to only use `args` though. Same is true for `kwargs`."
   ]
  },
  {
   "cell_type": "code",
   "execution_count": 19,
   "id": "da4b95b6",
   "metadata": {},
   "outputs": [],
   "source": [
    "def myfunc(**kwargs): #this will create a dicotionary of arguments passed in, returns a dictionary\n",
    "    print(kwargs)\n",
    "    if 'fruit' in kwargs:\n",
    "        print('My fruit of chioce is {}'.format(kwargs['fruit']))\n",
    "    else: \n",
    "        print('I did not find any fruit here.')"
   ]
  },
  {
   "cell_type": "code",
   "execution_count": 20,
   "id": "9548f70c",
   "metadata": {},
   "outputs": [
    {
     "name": "stdout",
     "output_type": "stream",
     "text": [
      "{'fruit': 'apple', 'veggie': 'lettuce'}\n",
      "My fruit of chioce is apple\n"
     ]
    }
   ],
   "source": [
    "myfunc(fruit='apple', veggie = 'lettuce')"
   ]
  },
  {
   "cell_type": "code",
   "execution_count": 23,
   "id": "5cfc5482",
   "metadata": {},
   "outputs": [],
   "source": [
    "def myfunc(*args, **kwargs):\n",
    "    print(args)\n",
    "    print(kwargs)\n",
    "    print('I would like {} {}'.format(args[0],kwargs['food']))"
   ]
  },
  {
   "cell_type": "code",
   "execution_count": 24,
   "id": "0a39fd57",
   "metadata": {},
   "outputs": [
    {
     "name": "stdout",
     "output_type": "stream",
     "text": [
      "(10, 20, 30)\n",
      "{'fruit': 'orange', 'food': 'eggs', 'animal': 'dog'}\n",
      "I would like 10 eggs\n"
     ]
    }
   ],
   "source": [
    "myfunc(10,20,30,fruit='orange',food='eggs',animal='dog')"
   ]
  },
  {
   "cell_type": "code",
   "execution_count": null,
   "id": "db1c5c28",
   "metadata": {},
   "outputs": [],
   "source": []
  }
 ],
 "metadata": {
  "kernelspec": {
   "display_name": "Python 3 (ipykernel)",
   "language": "python",
   "name": "python3"
  },
  "language_info": {
   "codemirror_mode": {
    "name": "ipython",
    "version": 3
   },
   "file_extension": ".py",
   "mimetype": "text/x-python",
   "name": "python",
   "nbconvert_exporter": "python",
   "pygments_lexer": "ipython3",
   "version": "3.10.9"
  }
 },
 "nbformat": 4,
 "nbformat_minor": 5
}
