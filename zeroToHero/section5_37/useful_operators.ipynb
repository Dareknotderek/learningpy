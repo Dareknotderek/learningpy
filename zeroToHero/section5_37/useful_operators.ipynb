{
 "cells": [
  {
   "cell_type": "markdown",
   "id": "21572519",
   "metadata": {},
   "source": [
    "## Useful Operators\n",
    "\n",
    "**Range function**\n",
    "\n",
    "Python has an automated function for this since it is so common for iteration. Let's explore how those look:"
   ]
  },
  {
   "cell_type": "code",
   "execution_count": 2,
   "id": "2597f1ef",
   "metadata": {},
   "outputs": [
    {
     "name": "stdout",
     "output_type": "stream",
     "text": [
      "0\n",
      "1\n",
      "2\n",
      "3\n",
      "4\n",
      "5\n",
      "6\n",
      "7\n",
      "8\n",
      "9\n"
     ]
    }
   ],
   "source": [
    "for num in range(10):\n",
    "    print(num)"
   ]
  },
  {
   "cell_type": "code",
   "execution_count": 3,
   "id": "2fb274a4",
   "metadata": {},
   "outputs": [
    {
     "name": "stdout",
     "output_type": "stream",
     "text": [
      "3\n",
      "4\n",
      "5\n",
      "6\n",
      "7\n",
      "8\n",
      "9\n"
     ]
    }
   ],
   "source": [
    "for num in range(3, 10): #here we can add a starting range\n",
    "    print(num)"
   ]
  },
  {
   "cell_type": "code",
   "execution_count": 5,
   "id": "82f95f16",
   "metadata": {},
   "outputs": [
    {
     "name": "stdout",
     "output_type": "stream",
     "text": [
      "0\n",
      "2\n",
      "4\n",
      "6\n",
      "8\n",
      "10\n"
     ]
    }
   ],
   "source": [
    "for num in range(0, 11, 2): #here we can add a step size\n",
    "    print(num)"
   ]
  },
  {
   "cell_type": "markdown",
   "id": "2df18454",
   "metadata": {},
   "source": [
    "But what if I want to actually make a list instead of just iterate through a range? Well, cast it to a list like so. "
   ]
  },
  {
   "cell_type": "code",
   "execution_count": 6,
   "id": "dfef8c59",
   "metadata": {},
   "outputs": [
    {
     "data": {
      "text/plain": [
       "[0, 2, 4, 6, 8, 10]"
      ]
     },
     "execution_count": 6,
     "metadata": {},
     "output_type": "execute_result"
    }
   ],
   "source": [
    "list(range(0,11,2)) #this will return the list [0,2,4,6,8,10]"
   ]
  },
  {
   "cell_type": "markdown",
   "id": "c9117c4f",
   "metadata": {},
   "source": [
    "**Innumerate Function**"
   ]
  },
  {
   "cell_type": "code",
   "execution_count": 13,
   "id": "1f6cb825",
   "metadata": {},
   "outputs": [
    {
     "name": "stdout",
     "output_type": "stream",
     "text": [
      "At index 0 the letter is a.\n",
      "At index 1 the letter is b.\n",
      "At index 2 the letter is c.\n",
      "At index 3 the letter is d.\n",
      "At index 4 the letter is e.\n"
     ]
    }
   ],
   "source": [
    "index_count = 0 \n",
    "\n",
    "for letter in 'abcde':\n",
    "    print(f'At index {index_count} the letter is {letter}.')\n",
    "    index_count+=1"
   ]
  },
  {
   "cell_type": "code",
   "execution_count": 14,
   "id": "f17e96fe",
   "metadata": {},
   "outputs": [
    {
     "name": "stdout",
     "output_type": "stream",
     "text": [
      "(0, 'a')\n",
      "(1, 'b')\n",
      "(2, 'c')\n",
      "(3, 'd')\n",
      "(4, 'e')\n"
     ]
    }
   ],
   "source": [
    "word = 'abcde'\n",
    "\n",
    "for item in enumerate (word):\n",
    "    print(item)"
   ]
  },
  {
   "cell_type": "markdown",
   "id": "e80f2283",
   "metadata": {},
   "source": [
    "What is happening here is that the enumerate function essentially is doing the index function from above in the form of tuples. We can use tuple unpacking to make these even more useful. "
   ]
  },
  {
   "cell_type": "code",
   "execution_count": 16,
   "id": "9a382d0b",
   "metadata": {},
   "outputs": [
    {
     "name": "stdout",
     "output_type": "stream",
     "text": [
      "0\n",
      "a\n",
      "\n",
      "\n",
      "1\n",
      "b\n",
      "\n",
      "\n",
      "2\n",
      "c\n",
      "\n",
      "\n",
      "3\n",
      "d\n",
      "\n",
      "\n",
      "4\n",
      "e\n",
      "\n",
      "\n"
     ]
    }
   ],
   "source": [
    "word = 'abcde'\n",
    "\n",
    "for index,letter in enumerate (word):\n",
    "    print(index)\n",
    "    print(letter)\n",
    "    print('\\n')"
   ]
  },
  {
   "cell_type": "markdown",
   "id": "ad3256a1",
   "metadata": {},
   "source": [
    "**Enumerate function** can take in any iterable object and returns some sort of index counter and then the object associated with it. "
   ]
  },
  {
   "cell_type": "markdown",
   "id": "851802ae",
   "metadata": {},
   "source": [
    "Let's move on to the **Zip Function**.\n",
    "\n",
    "Think of it as something almost opposite of enumerate. It zips togeter two lists. "
   ]
  },
  {
   "cell_type": "code",
   "execution_count": 19,
   "id": "312fe9f9",
   "metadata": {},
   "outputs": [],
   "source": [
    "mylist1 =[1,2,3]\n",
    "mylist2 =['a','b','c']\n",
    "mylist3 =[100,200,300]"
   ]
  },
  {
   "cell_type": "code",
   "execution_count": 21,
   "id": "4895ca51",
   "metadata": {},
   "outputs": [
    {
     "name": "stdout",
     "output_type": "stream",
     "text": [
      "(1, 'a', 100)\n",
      "(2, 'b', 200)\n",
      "(3, 'c', 300)\n"
     ]
    }
   ],
   "source": [
    "for item in zip(mylist1,mylist2,mylist3): #zip will only zip together as far as the shortest list. It will ignore extra.\n",
    "    print(item)"
   ]
  },
  {
   "cell_type": "code",
   "execution_count": 22,
   "id": "ec251fd9",
   "metadata": {},
   "outputs": [
    {
     "data": {
      "text/plain": [
       "[(1, 'a', 100), (2, 'b', 200), (3, 'c', 300)]"
      ]
     },
     "execution_count": 22,
     "metadata": {},
     "output_type": "execute_result"
    }
   ],
   "source": [
    "list(zip(mylist1,mylist2,mylist3)) #cast to actually get the new list"
   ]
  },
  {
   "cell_type": "code",
   "execution_count": 24,
   "id": "ab933bf9",
   "metadata": {},
   "outputs": [
    {
     "name": "stdout",
     "output_type": "stream",
     "text": [
      "a\n",
      "b\n",
      "c\n"
     ]
    }
   ],
   "source": [
    "for a,b,c in zip(mylist1,mylist2,mylist3): #we can use unpacking here too. \n",
    "    print(b)"
   ]
  },
  {
   "cell_type": "markdown",
   "id": "04a70fc9",
   "metadata": {},
   "source": [
    "**The IN operator**\n",
    "\n",
    "This helps us easily check if an object is in a list."
   ]
  },
  {
   "cell_type": "code",
   "execution_count": 25,
   "id": "759f0134",
   "metadata": {},
   "outputs": [
    {
     "data": {
      "text/plain": [
       "False"
      ]
     },
     "execution_count": 25,
     "metadata": {},
     "output_type": "execute_result"
    }
   ],
   "source": [
    "'x' in [1,2,3]"
   ]
  },
  {
   "cell_type": "code",
   "execution_count": 27,
   "id": "c35d5eb0",
   "metadata": {},
   "outputs": [
    {
     "data": {
      "text/plain": [
       "True"
      ]
     },
     "execution_count": 27,
     "metadata": {},
     "output_type": "execute_result"
    }
   ],
   "source": [
    "'x' in ['x','y','z']"
   ]
  },
  {
   "cell_type": "code",
   "execution_count": 28,
   "id": "b100d7e9",
   "metadata": {},
   "outputs": [
    {
     "data": {
      "text/plain": [
       "True"
      ]
     },
     "execution_count": 28,
     "metadata": {},
     "output_type": "execute_result"
    }
   ],
   "source": [
    "2 in [1,2,3] #works with numbers too"
   ]
  },
  {
   "cell_type": "code",
   "execution_count": 29,
   "id": "1129c86f",
   "metadata": {},
   "outputs": [
    {
     "data": {
      "text/plain": [
       "True"
      ]
     },
     "execution_count": 29,
     "metadata": {},
     "output_type": "execute_result"
    }
   ],
   "source": [
    "'a' in 'a world ' #can check strings as well."
   ]
  },
  {
   "cell_type": "code",
   "execution_count": 30,
   "id": "e2dff911",
   "metadata": {},
   "outputs": [
    {
     "data": {
      "text/plain": [
       "True"
      ]
     },
     "execution_count": 30,
     "metadata": {},
     "output_type": "execute_result"
    }
   ],
   "source": [
    "'mykey' in {'mykey':223} #this also works in dictionaries for _keys_"
   ]
  },
  {
   "cell_type": "markdown",
   "id": "8ae35e15",
   "metadata": {},
   "source": [
    "d ={'mykey':223} \n",
    "\n",
    "223 in d.values() #checks for values, can do same for keys"
   ]
  },
  {
   "cell_type": "markdown",
   "id": "63fd2298",
   "metadata": {},
   "source": [
    "Let's talk about **min-max functions.** "
   ]
  },
  {
   "cell_type": "code",
   "execution_count": 34,
   "id": "e4697e78",
   "metadata": {},
   "outputs": [],
   "source": [
    "mynumlist=[10,20,30,40,50,60,100]"
   ]
  },
  {
   "cell_type": "code",
   "execution_count": 35,
   "id": "4d352749",
   "metadata": {},
   "outputs": [
    {
     "data": {
      "text/plain": [
       "10"
      ]
     },
     "execution_count": 35,
     "metadata": {},
     "output_type": "execute_result"
    }
   ],
   "source": [
    "min(mynumlist)"
   ]
  },
  {
   "cell_type": "code",
   "execution_count": 37,
   "id": "05455a8c",
   "metadata": {},
   "outputs": [
    {
     "data": {
      "text/plain": [
       "100"
      ]
     },
     "execution_count": 37,
     "metadata": {},
     "output_type": "execute_result"
    }
   ],
   "source": [
    "max(mynumlist)"
   ]
  },
  {
   "cell_type": "markdown",
   "id": "bc9bbe5d",
   "metadata": {},
   "source": [
    "**UWAGA** do not use Min or Max as variable words since they already functions. "
   ]
  },
  {
   "cell_type": "markdown",
   "id": "c4fa1876",
   "metadata": {},
   "source": [
    "The **Random Library**\n",
    "\n",
    "We will need to import functions from a library here. "
   ]
  },
  {
   "cell_type": "code",
   "execution_count": 38,
   "id": "eda0ce0e",
   "metadata": {},
   "outputs": [],
   "source": [
    "from random import shuffle #tabing here will show all the functions we can call from Random, we will use shuffle."
   ]
  },
  {
   "cell_type": "code",
   "execution_count": 39,
   "id": "fda36086",
   "metadata": {},
   "outputs": [],
   "source": [
    "myshufflelist = [1,2,3,4,5,6,7,8,9,10]"
   ]
  },
  {
   "cell_type": "code",
   "execution_count": 46,
   "id": "580f7e39",
   "metadata": {},
   "outputs": [],
   "source": [
    "shuffle(myshufflelist) #this does not return anything, it only changes things in an existing list. It is an inplace function"
   ]
  },
  {
   "cell_type": "code",
   "execution_count": 43,
   "id": "5ab54373",
   "metadata": {},
   "outputs": [
    {
     "data": {
      "text/plain": [
       "[4, 7, 1, 3, 6, 2, 10, 8, 9, 5]"
      ]
     },
     "execution_count": 43,
     "metadata": {},
     "output_type": "execute_result"
    }
   ],
   "source": [
    "myshufflelist"
   ]
  },
  {
   "cell_type": "code",
   "execution_count": 44,
   "id": "bc4c7700",
   "metadata": {},
   "outputs": [],
   "source": [
    "shuffle(myshufflelist) #we can change it again too"
   ]
  },
  {
   "cell_type": "code",
   "execution_count": 45,
   "id": "e5a01723",
   "metadata": {},
   "outputs": [
    {
     "data": {
      "text/plain": [
       "[5, 3, 2, 1, 10, 8, 9, 7, 4, 6]"
      ]
     },
     "execution_count": 45,
     "metadata": {},
     "output_type": "execute_result"
    }
   ],
   "source": [
    "myshufflelist"
   ]
  },
  {
   "cell_type": "code",
   "execution_count": 47,
   "id": "1c6477aa",
   "metadata": {},
   "outputs": [],
   "source": [
    "from random import randint"
   ]
  },
  {
   "cell_type": "code",
   "execution_count": 48,
   "id": "854222fd",
   "metadata": {},
   "outputs": [
    {
     "data": {
      "text/plain": [
       "84"
      ]
     },
     "execution_count": 48,
     "metadata": {},
     "output_type": "execute_result"
    }
   ],
   "source": [
    "randint(0,100) #Return random integer in range [a, b], including both end points.\n"
   ]
  },
  {
   "cell_type": "code",
   "execution_count": 50,
   "id": "41479a53",
   "metadata": {},
   "outputs": [
    {
     "data": {
      "text/plain": [
       "44"
      ]
     },
     "execution_count": 50,
     "metadata": {},
     "output_type": "execute_result"
    }
   ],
   "source": [
    "randint(0,100) #since it returns, we can save this actually. "
   ]
  },
  {
   "cell_type": "code",
   "execution_count": 51,
   "id": "e14b8f3a",
   "metadata": {},
   "outputs": [],
   "source": [
    "mynum=randint(0,10)"
   ]
  },
  {
   "cell_type": "code",
   "execution_count": 52,
   "id": "73eff622",
   "metadata": {},
   "outputs": [
    {
     "data": {
      "text/plain": [
       "10"
      ]
     },
     "execution_count": 52,
     "metadata": {},
     "output_type": "execute_result"
    }
   ],
   "source": [
    "mynum"
   ]
  },
  {
   "cell_type": "code",
   "execution_count": 56,
   "id": "d96f2291",
   "metadata": {},
   "outputs": [
    {
     "name": "stdout",
     "output_type": "stream",
     "text": [
      "Enter a number here: 50\n"
     ]
    },
    {
     "data": {
      "text/plain": [
       "'50'"
      ]
     },
     "execution_count": 56,
     "metadata": {},
     "output_type": "execute_result"
    }
   ],
   "source": [
    "input('Enter a number here: ') #this will prompt the user for input and potentially save it. "
   ]
  },
  {
   "cell_type": "code",
   "execution_count": 57,
   "id": "96978ef2",
   "metadata": {},
   "outputs": [
    {
     "name": "stdout",
     "output_type": "stream",
     "text": [
      "what is your name?Darek\n"
     ]
    }
   ],
   "source": [
    "result1 = input('what is your name?') #it will always accept this as a string. Even numbers"
   ]
  },
  {
   "cell_type": "code",
   "execution_count": 58,
   "id": "dc0e8c42",
   "metadata": {},
   "outputs": [
    {
     "data": {
      "text/plain": [
       "'Darek'"
      ]
     },
     "execution_count": 58,
     "metadata": {},
     "output_type": "execute_result"
    }
   ],
   "source": [
    "result1\n"
   ]
  },
  {
   "cell_type": "code",
   "execution_count": 59,
   "id": "864cb7e2",
   "metadata": {},
   "outputs": [
    {
     "name": "stdout",
     "output_type": "stream",
     "text": [
      "what is your favorite number? 16\n"
     ]
    }
   ],
   "source": [
    "result2 = input('what is your favorite number? ')"
   ]
  },
  {
   "cell_type": "code",
   "execution_count": 60,
   "id": "c8f472c0",
   "metadata": {},
   "outputs": [
    {
     "data": {
      "text/plain": [
       "'16'"
      ]
     },
     "execution_count": 60,
     "metadata": {},
     "output_type": "execute_result"
    }
   ],
   "source": [
    "result2"
   ]
  },
  {
   "cell_type": "code",
   "execution_count": 61,
   "id": "d4354110",
   "metadata": {},
   "outputs": [
    {
     "data": {
      "text/plain": [
       "16.0"
      ]
     },
     "execution_count": 61,
     "metadata": {},
     "output_type": "execute_result"
    }
   ],
   "source": [
    "float(result2)"
   ]
  },
  {
   "cell_type": "code",
   "execution_count": 63,
   "id": "8a61bf8d",
   "metadata": {},
   "outputs": [
    {
     "data": {
      "text/plain": [
       "16"
      ]
     },
     "execution_count": 63,
     "metadata": {},
     "output_type": "execute_result"
    }
   ],
   "source": [
    "int(result2) #you can do this in one line if you want. "
   ]
  },
  {
   "cell_type": "code",
   "execution_count": 64,
   "id": "2b6e02c7",
   "metadata": {},
   "outputs": [
    {
     "name": "stdout",
     "output_type": "stream",
     "text": [
      "what is your favorite number? 30\n"
     ]
    }
   ],
   "source": [
    "result3 = int(input('what is your favorite number? '))"
   ]
  },
  {
   "cell_type": "code",
   "execution_count": 65,
   "id": "6588b796",
   "metadata": {},
   "outputs": [
    {
     "data": {
      "text/plain": [
       "30"
      ]
     },
     "execution_count": 65,
     "metadata": {},
     "output_type": "execute_result"
    }
   ],
   "source": [
    "result3"
   ]
  },
  {
   "cell_type": "code",
   "execution_count": null,
   "id": "251e61e0",
   "metadata": {},
   "outputs": [],
   "source": []
  }
 ],
 "metadata": {
  "kernelspec": {
   "display_name": "Python 3 (ipykernel)",
   "language": "python",
   "name": "python3"
  },
  "language_info": {
   "codemirror_mode": {
    "name": "ipython",
    "version": 3
   },
   "file_extension": ".py",
   "mimetype": "text/x-python",
   "name": "python",
   "nbconvert_exporter": "python",
   "pygments_lexer": "ipython3",
   "version": "3.10.9"
  }
 },
 "nbformat": 4,
 "nbformat_minor": 5
}
