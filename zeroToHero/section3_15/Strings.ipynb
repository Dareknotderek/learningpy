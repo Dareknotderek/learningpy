{
 "cells": [
  {
   "cell_type": "markdown",
   "id": "aec50820",
   "metadata": {},
   "source": [
    "## Strings\n",
    "\n",
    "Strings are sequences of characters using the syntax of either single or double quotes.\n",
    "\n",
    "- \"hello\"\n",
    "- 'Hello'\n",
    "- \" I don't do that \"\n",
    "\n",
    "### Indexing\n",
    "\n",
    "Strings are orded sequences so we can index and slice to grab subsections of strings.\n",
    "\n",
    "Indexing notation uses `[]` after the string or the variable assigned the string.\n",
    "\n",
    "Indexing allows for grabing single characters from the string.\n",
    "\n",
    "Use `[]` and a number index to indicate the position you're interacting with.\n",
    "\n",
    "`Character: h  e  l  l  o`\n",
    "\n",
    "`Index:     0  1  2  3  4`\n",
    "\n",
    "`Reverse:   0 -4 -3 -2 -1`\n",
    "\n",
    "### Slicing\n",
    "\n",
    "Slicing allows to grab multiple characters from the string - hence the slice. \n",
    "\n",
    "Syntax is: `[start:stop:step]`\n",
    "\n",
    "`start` is a numerical index for the slice start\n",
    "\n",
    "`stop` is the index you will go to but not include\n",
    "\n",
    "`step` is the interval between indexes you will take\n",
    "\n",
    "## Basic String Examples:"
   ]
  },
  {
   "cell_type": "code",
   "execution_count": 1,
   "id": "ae261c28",
   "metadata": {},
   "outputs": [
    {
     "data": {
      "text/plain": [
       "'Hello'"
      ]
     },
     "execution_count": 1,
     "metadata": {},
     "output_type": "execute_result"
    }
   ],
   "source": [
    "'Hello'"
   ]
  },
  {
   "cell_type": "code",
   "execution_count": 2,
   "id": "73f23726",
   "metadata": {},
   "outputs": [
    {
     "data": {
      "text/plain": [
       "'World'"
      ]
     },
     "execution_count": 2,
     "metadata": {},
     "output_type": "execute_result"
    }
   ],
   "source": [
    "\"World\""
   ]
  },
  {
   "cell_type": "code",
   "execution_count": 3,
   "id": "dd3cce7a",
   "metadata": {},
   "outputs": [
    {
     "data": {
      "text/plain": [
       "'This is also a string.'"
      ]
     },
     "execution_count": 3,
     "metadata": {},
     "output_type": "execute_result"
    }
   ],
   "source": [
    "'This is also a string.'"
   ]
  },
  {
   "cell_type": "code",
   "execution_count": 4,
   "id": "d273b5e0",
   "metadata": {},
   "outputs": [
    {
     "data": {
      "text/plain": [
       "\" I'm going on a run \""
      ]
     },
     "execution_count": 4,
     "metadata": {},
     "output_type": "execute_result"
    }
   ],
   "source": [
    "\" I'm going on a run \" #can allow for single/double to allow for strings that work without throwing an error."
   ]
  },
  {
   "cell_type": "code",
   "execution_count": 5,
   "id": "1e03efee",
   "metadata": {},
   "outputs": [
    {
     "name": "stdout",
     "output_type": "stream",
     "text": [
      "hello\n"
     ]
    }
   ],
   "source": [
    "print(\"hello\") #prints the string rather than return it, removes the quotation marks"
   ]
  },
  {
   "cell_type": "code",
   "execution_count": 8,
   "id": "ff220caa",
   "metadata": {},
   "outputs": [
    {
     "name": "stdout",
     "output_type": "stream",
     "text": [
      "Hello world one\n",
      "Hello world two\n"
     ]
    }
   ],
   "source": [
    "print(\"Hello world one\") #If we run this without printing, it will only return the most recent, so we print instead.\n",
    "print(\"Hello world two\")"
   ]
  },
  {
   "cell_type": "code",
   "execution_count": 11,
   "id": "d3ff228a",
   "metadata": {},
   "outputs": [
    {
     "name": "stdout",
     "output_type": "stream",
     "text": [
      "hello \n",
      "world\n"
     ]
    }
   ],
   "source": [
    "print(\"hello \\nworld\") #add escape sequence of `\\n`, this allows for printing a new line following the sequence"
   ]
  },
  {
   "cell_type": "code",
   "execution_count": 13,
   "id": "e3cd36d6",
   "metadata": {},
   "outputs": [
    {
     "name": "stdout",
     "output_type": "stream",
     "text": [
      "hello \tworld\n"
     ]
    }
   ],
   "source": [
    "print(\"hello \\tworld\") #this escape sequence of `\\t` is tab (four spaces)"
   ]
  },
  {
   "cell_type": "code",
   "execution_count": 14,
   "id": "e86f6923",
   "metadata": {},
   "outputs": [
    {
     "data": {
      "text/plain": [
       "5"
      ]
     },
     "execution_count": 14,
     "metadata": {},
     "output_type": "execute_result"
    }
   ],
   "source": [
    "len(\"hello\") #checks length of a string - includes spaces too"
   ]
  },
  {
   "cell_type": "code",
   "execution_count": null,
   "id": "5baea918",
   "metadata": {},
   "outputs": [],
   "source": []
  }
 ],
 "metadata": {
  "kernelspec": {
   "display_name": "Python 3 (ipykernel)",
   "language": "python",
   "name": "python3"
  },
  "language_info": {
   "codemirror_mode": {
    "name": "ipython",
    "version": 3
   },
   "file_extension": ".py",
   "mimetype": "text/x-python",
   "name": "python",
   "nbconvert_exporter": "python",
   "pygments_lexer": "ipython3",
   "version": "3.10.9"
  }
 },
 "nbformat": 4,
 "nbformat_minor": 5
}
