{
 "cells": [
  {
   "cell_type": "markdown",
   "id": "2582eb7d",
   "metadata": {},
   "source": [
    "## `def` Keyword\n",
    "\n",
    "It allows us to create a function in python. \n",
    "\n",
    "This requires a very specific syntax, and requires proper indentation, and structuring.\n",
    "\n",
    "Example:\n",
    "\n",
    "`def name_of_function():\n",
    "\n",
    "    \"\"\"\n",
    "    \n",
    "    Docstring explains function.\n",
    "    \n",
    "    \"\"\"\n",
    "    \n",
    "    print(\"hello\")`\n",
    "    \n",
    "`>> name_of_function() #function can then be executed and called to see result`\n",
    "\n",
    "`>> hello`\n",
    "\n",
    "By convention, function names use snake casing. (all lower case, underscores between words)"
   ]
  },
  {
   "cell_type": "code",
   "execution_count": 2,
   "id": "35d4f46b",
   "metadata": {},
   "outputs": [],
   "source": [
    "def name_of_function():\n",
    "    \"\"\"\n",
    "    this function is an example of how to make a function. It will print a simple string\n",
    "    \"\"\"\n",
    "    print(\"hello\")"
   ]
  },
  {
   "cell_type": "code",
   "execution_count": 4,
   "id": "5eddada7",
   "metadata": {},
   "outputs": [
    {
     "name": "stdout",
     "output_type": "stream",
     "text": [
      "hello\n"
     ]
    }
   ],
   "source": [
    "name_of_function()"
   ]
  },
  {
   "cell_type": "code",
   "execution_count": 9,
   "id": "53243799",
   "metadata": {},
   "outputs": [],
   "source": [
    "def name_of_function(name): #we can call the passed argument to be anything, we used name for ease\n",
    "    \"\"\"\n",
    "    This function is an example of how to make a function a bit more complex. This function passes a variable into the result. \n",
    "    In this case, it will pass a name to greet a specificed individual. It needs to be a string for this one.\n",
    "    \"\"\"\n",
    "    print(\"hello \"+name)"
   ]
  },
  {
   "cell_type": "code",
   "execution_count": 10,
   "id": "d06152a3",
   "metadata": {},
   "outputs": [
    {
     "name": "stdout",
     "output_type": "stream",
     "text": [
      "hello DarekNotDerek\n"
     ]
    }
   ],
   "source": [
    "name_of_function(\"DarekNotDerek\")"
   ]
  },
  {
   "cell_type": "markdown",
   "id": "fe9e9f0d",
   "metadata": {},
   "source": [
    "**UWAGA** Typically we will use the `return` keyword to send the result back to the function rather than print it out. \n",
    "\n",
    "`return` allows us to assign the output of a funtion to a new variable. "
   ]
  },
  {
   "cell_type": "code",
   "execution_count": 12,
   "id": "662c7cec",
   "metadata": {},
   "outputs": [],
   "source": [
    "def add_function(num1,num2):\n",
    "    return num1+num2"
   ]
  },
  {
   "cell_type": "code",
   "execution_count": 13,
   "id": "982392e6",
   "metadata": {},
   "outputs": [],
   "source": [
    "result = add_function(1,2)"
   ]
  },
  {
   "cell_type": "code",
   "execution_count": 14,
   "id": "56671e12",
   "metadata": {},
   "outputs": [
    {
     "name": "stdout",
     "output_type": "stream",
     "text": [
      "3\n"
     ]
    }
   ],
   "source": [
    "print(result)"
   ]
  },
  {
   "cell_type": "code",
   "execution_count": 15,
   "id": "8d593683",
   "metadata": {},
   "outputs": [],
   "source": [
    "newresult = add_function(100,200)"
   ]
  },
  {
   "cell_type": "code",
   "execution_count": 17,
   "id": "7096cc92",
   "metadata": {},
   "outputs": [
    {
     "name": "stdout",
     "output_type": "stream",
     "text": [
      "300\n"
     ]
    }
   ],
   "source": [
    "print(newresult)"
   ]
  },
  {
   "cell_type": "code",
   "execution_count": null,
   "id": "6080f19c",
   "metadata": {},
   "outputs": [],
   "source": []
  }
 ],
 "metadata": {
  "kernelspec": {
   "display_name": "Python 3 (ipykernel)",
   "language": "python",
   "name": "python3"
  },
  "language_info": {
   "codemirror_mode": {
    "name": "ipython",
    "version": 3
   },
   "file_extension": ".py",
   "mimetype": "text/x-python",
   "name": "python",
   "nbconvert_exporter": "python",
   "pygments_lexer": "ipython3",
   "version": "3.10.9"
  }
 },
 "nbformat": 4,
 "nbformat_minor": 5
}
