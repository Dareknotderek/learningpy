{
 "cells": [
  {
   "cell_type": "markdown",
   "id": "24b4cc54",
   "metadata": {},
   "source": [
    "## While Loops\n",
    "\n",
    "While loops continue to execute a block of code _while_ a condition remains True. \n",
    "\n",
    "Examples IRL: \n",
    "\n",
    "While the tub is not full, continue to fill with water. \n",
    "\n",
    "While my cat is hungry, keep feeding the cat. \n",
    "\n",
    "But what does the syntax for this look like in Python?\n",
    "\n",
    "`while some_boolean_condition:`\n",
    "\n",
    "    do sometehing\n",
    "`else:`\n",
    "\n",
    "    do something else\n",
    "\n",
    "Let's look at some code:"
   ]
  },
  {
   "cell_type": "code",
   "execution_count": 2,
   "id": "10c72911",
   "metadata": {},
   "outputs": [
    {
     "name": "stdout",
     "output_type": "stream",
     "text": [
      "The current value of x is 0\n",
      "The current value of x is 1\n",
      "The current value of x is 2\n",
      "The current value of x is 3\n",
      "The current value of x is 4\n"
     ]
    }
   ],
   "source": [
    "x = 0\n",
    "\n",
    "while x <5:\n",
    "    print(f'The current value of x is {x}')\n",
    "    x = x + 1 #this is an important part here, without incrimentally changing this we will hit an infinite loop. "
   ]
  },
  {
   "cell_type": "markdown",
   "id": "e24040c9",
   "metadata": {},
   "source": [
    "**UWAGA** Above we see `x = x+1` as a way to increase the value, we can also do this more compactly as `x += 1`"
   ]
  },
  {
   "cell_type": "code",
   "execution_count": 3,
   "id": "0d638925",
   "metadata": {},
   "outputs": [
    {
     "name": "stdout",
     "output_type": "stream",
     "text": [
      "The current value of x is 0\n",
      "The current value of x is 1\n",
      "The current value of x is 2\n",
      "The current value of x is 3\n",
      "The current value of x is 4\n",
      "X IS NOT LESS THAN 5\n"
     ]
    }
   ],
   "source": [
    "x = 0\n",
    "\n",
    "while x <5:\n",
    "    print(f'The current value of x is {x}')\n",
    "    x += 1\n",
    "else: #since the x condition eventually isn't true, we will hit else here. \n",
    "    print('X IS NOT LESS THAN 5')"
   ]
  },
  {
   "cell_type": "code",
   "execution_count": 4,
   "id": "7d891e5c",
   "metadata": {},
   "outputs": [
    {
     "name": "stdout",
     "output_type": "stream",
     "text": [
      "X IS NOT LESS THAN 5\n"
     ]
    }
   ],
   "source": [
    "x = 50\n",
    "\n",
    "while x <5:\n",
    "    print(f'The current value of x is {x}')\n",
    "    x += 1\n",
    "else: #since the x condition eventually begins as false, we will hit else here. \n",
    "    print('X IS NOT LESS THAN 5')"
   ]
  },
  {
   "cell_type": "markdown",
   "id": "aa1332fd",
   "metadata": {},
   "source": [
    "### break, continue, pass\n",
    "\n",
    "We can use these three statements in our loops to add additional functionality for various cases. These are defined by:\n",
    "\n",
    "    break: breaks out of the current closest enclosing loop.\n",
    "    continue: Goes to the top of the closest enclosing loop.\n",
    "    pass: Does nothing at all. \n",
    "    \n",
    "These won't be used _all_ the time, but they will be handy in certain situations. "
   ]
  },
  {
   "cell_type": "code",
   "execution_count": 5,
   "id": "8e495ae3",
   "metadata": {},
   "outputs": [
    {
     "name": "stdout",
     "output_type": "stream",
     "text": [
      "end of my script\n"
     ]
    }
   ],
   "source": [
    "x = [1,2,3]\n",
    "\n",
    "for item in x: \n",
    "    pass #putting this means do nothing, it's a place holder to avoid syntax error.\n",
    "\n",
    "print('end of my script') #allows us to skip the code, this is most useful as a placeholder for a function you don't wanto to \n",
    "#test right away."
   ]
  },
  {
   "cell_type": "code",
   "execution_count": 6,
   "id": "8b2fb803",
   "metadata": {},
   "outputs": [],
   "source": [
    "mystring = 'Sammy'"
   ]
  },
  {
   "cell_type": "code",
   "execution_count": 7,
   "id": "2561c848",
   "metadata": {},
   "outputs": [
    {
     "name": "stdout",
     "output_type": "stream",
     "text": [
      "S\n",
      "a\n",
      "m\n",
      "m\n",
      "y\n"
     ]
    }
   ],
   "source": [
    "for letter in mystring:\n",
    "    print(letter)"
   ]
  },
  {
   "cell_type": "code",
   "execution_count": 8,
   "id": "f573b86d",
   "metadata": {},
   "outputs": [
    {
     "name": "stdout",
     "output_type": "stream",
     "text": [
      "S\n",
      "m\n",
      "m\n",
      "y\n"
     ]
    }
   ],
   "source": [
    "for letter in mystring: #let's pretend we don't want to print our `a` for some reason\n",
    "    if letter == 'a':\n",
    "        continue #dumps it back to the `for` loop\n",
    "    print(letter)\n",
    "#this will not come up a lot in the beginner code."
   ]
  },
  {
   "cell_type": "code",
   "execution_count": 11,
   "id": "794edeb2",
   "metadata": {},
   "outputs": [
    {
     "name": "stdout",
     "output_type": "stream",
     "text": [
      "S\n"
     ]
    }
   ],
   "source": [
    "for letter in mystring:\n",
    "    if letter == 'a':\n",
    "        break #breaks the loop\n",
    "    print(letter)"
   ]
  },
  {
   "cell_type": "code",
   "execution_count": 12,
   "id": "48e78427",
   "metadata": {},
   "outputs": [
    {
     "name": "stdout",
     "output_type": "stream",
     "text": [
      "0\n",
      "1\n"
     ]
    }
   ],
   "source": [
    "x = 0\n",
    "\n",
    "while x < 5:\n",
    "    if x == 2:\n",
    "        break #will give us 0 & 1 only\n",
    "    print(x)\n",
    "    x+=1 "
   ]
  },
  {
   "cell_type": "code",
   "execution_count": null,
   "id": "2333c343",
   "metadata": {},
   "outputs": [],
   "source": []
  }
 ],
 "metadata": {
  "kernelspec": {
   "display_name": "Python 3 (ipykernel)",
   "language": "python",
   "name": "python3"
  },
  "language_info": {
   "codemirror_mode": {
    "name": "ipython",
    "version": 3
   },
   "file_extension": ".py",
   "mimetype": "text/x-python",
   "name": "python",
   "nbconvert_exporter": "python",
   "pygments_lexer": "ipython3",
   "version": "3.10.9"
  }
 },
 "nbformat": 4,
 "nbformat_minor": 5
}
