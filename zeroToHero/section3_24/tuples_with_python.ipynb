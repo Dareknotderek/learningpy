{
 "cells": [
  {
   "cell_type": "markdown",
   "id": "af28530b",
   "metadata": {},
   "source": [
    "### Tuples\n",
    "\n",
    "Tuples are very similar to lists, but they are immutable. They cannot be changed. \n",
    "\n",
    "Once assigned an index position in a tuyple, it cannot be reassigned. \n",
    "\n",
    "Tuples use parenthesis: `(1,2,3)`"
   ]
  },
  {
   "cell_type": "code",
   "execution_count": 1,
   "id": "cedc7043",
   "metadata": {},
   "outputs": [],
   "source": [
    "t=(1,2,3) #tuple"
   ]
  },
  {
   "cell_type": "code",
   "execution_count": 2,
   "id": "b61cb4c5",
   "metadata": {},
   "outputs": [],
   "source": [
    "mylist=[1,2,3] #list"
   ]
  },
  {
   "cell_type": "code",
   "execution_count": 3,
   "id": "75b89d57",
   "metadata": {},
   "outputs": [
    {
     "data": {
      "text/plain": [
       "tuple"
      ]
     },
     "execution_count": 3,
     "metadata": {},
     "output_type": "execute_result"
    }
   ],
   "source": [
    "type(t)#can always check"
   ]
  },
  {
   "cell_type": "code",
   "execution_count": 4,
   "id": "96b615c5",
   "metadata": {},
   "outputs": [
    {
     "data": {
      "text/plain": [
       "list"
      ]
     },
     "execution_count": 4,
     "metadata": {},
     "output_type": "execute_result"
    }
   ],
   "source": [
    "type(mylist)"
   ]
  },
  {
   "cell_type": "code",
   "execution_count": 5,
   "id": "f283d958",
   "metadata": {},
   "outputs": [
    {
     "data": {
      "text/plain": [
       "3"
      ]
     },
     "execution_count": 5,
     "metadata": {},
     "output_type": "execute_result"
    }
   ],
   "source": [
    "len(t) #can check number of objects in tuple"
   ]
  },
  {
   "cell_type": "code",
   "execution_count": 6,
   "id": "9fe48cf8",
   "metadata": {},
   "outputs": [],
   "source": [
    "t=('one', 2) #multiple datatypes like a list"
   ]
  },
  {
   "cell_type": "code",
   "execution_count": 7,
   "id": "edba5c8a",
   "metadata": {},
   "outputs": [
    {
     "data": {
      "text/plain": [
       "'one'"
      ]
     },
     "execution_count": 7,
     "metadata": {},
     "output_type": "execute_result"
    }
   ],
   "source": [
    "t[0]"
   ]
  },
  {
   "cell_type": "code",
   "execution_count": 8,
   "id": "64fcaf6c",
   "metadata": {},
   "outputs": [
    {
     "data": {
      "text/plain": [
       "2"
      ]
     },
     "execution_count": 8,
     "metadata": {},
     "output_type": "execute_result"
    }
   ],
   "source": [
    "t[-1]"
   ]
  },
  {
   "cell_type": "markdown",
   "id": "981a1021",
   "metadata": {},
   "source": [
    "**Again, this is similar to a list but it is immutable, that is the difference**\n",
    "\n",
    "Let's look at a few methods."
   ]
  },
  {
   "cell_type": "code",
   "execution_count": 9,
   "id": "a773fea5",
   "metadata": {},
   "outputs": [],
   "source": [
    "t = ('a', 'a', 'b')"
   ]
  },
  {
   "cell_type": "code",
   "execution_count": 10,
   "id": "7bfd12a3",
   "metadata": {},
   "outputs": [
    {
     "data": {
      "text/plain": [
       "2"
      ]
     },
     "execution_count": 10,
     "metadata": {},
     "output_type": "execute_result"
    }
   ],
   "source": [
    "t.count('a') #checks how many times `a` is in the tuple"
   ]
  },
  {
   "cell_type": "code",
   "execution_count": 11,
   "id": "1d386c0f",
   "metadata": {},
   "outputs": [
    {
     "data": {
      "text/plain": [
       "0"
      ]
     },
     "execution_count": 11,
     "metadata": {},
     "output_type": "execute_result"
    }
   ],
   "source": [
    "t.index('a') #shows the first index it is placed at"
   ]
  },
  {
   "cell_type": "code",
   "execution_count": 12,
   "id": "cc85453a",
   "metadata": {},
   "outputs": [
    {
     "data": {
      "text/plain": [
       "2"
      ]
     },
     "execution_count": 12,
     "metadata": {},
     "output_type": "execute_result"
    }
   ],
   "source": [
    "t.index('b') "
   ]
  },
  {
   "cell_type": "code",
   "execution_count": 13,
   "id": "057f01e9",
   "metadata": {},
   "outputs": [
    {
     "data": {
      "text/plain": [
       "('a', 'a', 'b')"
      ]
     },
     "execution_count": 13,
     "metadata": {},
     "output_type": "execute_result"
    }
   ],
   "source": [
    "t"
   ]
  },
  {
   "cell_type": "code",
   "execution_count": 14,
   "id": "8e859910",
   "metadata": {},
   "outputs": [
    {
     "data": {
      "text/plain": [
       "[1, 2, 3]"
      ]
     },
     "execution_count": 14,
     "metadata": {},
     "output_type": "execute_result"
    }
   ],
   "source": [
    "mylist"
   ]
  },
  {
   "cell_type": "code",
   "execution_count": 15,
   "id": "f573ed18",
   "metadata": {},
   "outputs": [],
   "source": [
    "mylist[0] = 'NEW' #Again, a list can do this but we'll see below that a tuple cannot"
   ]
  },
  {
   "cell_type": "code",
   "execution_count": 16,
   "id": "3f7f197b",
   "metadata": {},
   "outputs": [
    {
     "data": {
      "text/plain": [
       "['NEW', 2, 3]"
      ]
     },
     "execution_count": 16,
     "metadata": {},
     "output_type": "execute_result"
    }
   ],
   "source": [
    "mylist"
   ]
  },
  {
   "cell_type": "code",
   "execution_count": 18,
   "id": "fa884aa2",
   "metadata": {},
   "outputs": [],
   "source": [
    "#`t[0] = 'NEW'` This throws a type error.  "
   ]
  },
  {
   "cell_type": "markdown",
   "id": "fa247759",
   "metadata": {},
   "source": [
    "**So why use it?**\n",
    "\n",
    "This begins to show benefits much later on. This is great when passing objects to ensure objects do not change. It ensures data integrity for the tuple, since it is immutable."
   ]
  },
  {
   "cell_type": "code",
   "execution_count": null,
   "id": "c0b6313b",
   "metadata": {},
   "outputs": [],
   "source": []
  }
 ],
 "metadata": {
  "kernelspec": {
   "display_name": "Python 3 (ipykernel)",
   "language": "python",
   "name": "python3"
  },
  "language_info": {
   "codemirror_mode": {
    "name": "ipython",
    "version": 3
   },
   "file_extension": ".py",
   "mimetype": "text/x-python",
   "name": "python",
   "nbconvert_exporter": "python",
   "pygments_lexer": "ipython3",
   "version": "3.10.9"
  }
 },
 "nbformat": 4,
 "nbformat_minor": 5
}
