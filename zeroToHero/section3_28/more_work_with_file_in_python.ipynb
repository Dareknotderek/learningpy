{
 "cells": [
  {
   "cell_type": "markdown",
   "id": "dd741e14",
   "metadata": {},
   "source": [
    "### File Locations\n",
    "\n",
    "If we want to open files at another lcoation on the computer, not just the working directory, we just have to pass the entire file path.\n",
    "\n",
    "For Windows, we will need to use double `\\` so that python doesn't treat the second `\\` as an escape character. File path formation is:\n",
    "\n",
    "`myfile = open(\"C:\\\\Users\\\\UserName\\\\Folder\\\\test.txt\")`\n",
    "\n",
    "For MacOS and Linux, you sue just slashes in the opposite direction: \n",
    "\n",
    "`myfile = open(\"/Users/YourUserName/Folder/myfile.txt\")`"
   ]
  },
  {
   "cell_type": "code",
   "execution_count": 1,
   "id": "0729f6d0",
   "metadata": {},
   "outputs": [
    {
     "data": {
      "text/plain": [
       "'C:\\\\Users\\\\dariu\\\\zeroToHero\\\\section3_28'"
      ]
     },
     "execution_count": 1,
     "metadata": {},
     "output_type": "execute_result"
    }
   ],
   "source": [
    "pwd ## this will show the format for file path you need to use on any machine"
   ]
  },
  {
   "cell_type": "markdown",
   "id": "ef156aa7",
   "metadata": {},
   "source": [
    "**You will also need to close a file when calling from other locations on the computer**"
   ]
  },
  {
   "cell_type": "code",
   "execution_count": 2,
   "id": "1637457f",
   "metadata": {},
   "outputs": [],
   "source": [
    "with open('myfile.txt') as my_new_file: #in the indentation below, it will use `my_new_file` as the text file.\n",
    "    content = my_new_file.read()"
   ]
  },
  {
   "cell_type": "markdown",
   "id": "2a528e4b",
   "metadata": {},
   "source": [
    "**By using the method above, we do not have to worry about closing the file, but we still have the content.**"
   ]
  },
  {
   "cell_type": "code",
   "execution_count": 3,
   "id": "97864d9f",
   "metadata": {},
   "outputs": [
    {
     "data": {
      "text/plain": [
       "'Hello this is a text file\\nthis is the second line\\nthis is the third line\\n'"
      ]
     },
     "execution_count": 3,
     "metadata": {},
     "output_type": "execute_result"
    }
   ],
   "source": [
    "content"
   ]
  },
  {
   "cell_type": "markdown",
   "id": "4a12af17",
   "metadata": {},
   "source": [
    "### Reading, Writing, and Overwriting\n",
    "\n",
    "We can read, write, and overwrite files. \n",
    "\n",
    "`with open('myfile.txt', )` then hitting `shift + tab` while in the para, we see a list of already defined functions we can use. "
   ]
  },
  {
   "cell_type": "code",
   "execution_count": 7,
   "id": "9c6cb522",
   "metadata": {},
   "outputs": [],
   "source": [
    "with open('myfile.txt', mode='r') as myfile: #with `w` this will throw an error based on perms. r = read, w = write, a = appnd\n",
    "    contents = myfile.read()"
   ]
  },
  {
   "cell_type": "code",
   "execution_count": 5,
   "id": "c781a853",
   "metadata": {},
   "outputs": [
    {
     "data": {
      "text/plain": [
       "'Hello this is a text file\\nthis is the second line\\nthis is the third line\\n'"
      ]
     },
     "execution_count": 5,
     "metadata": {},
     "output_type": "execute_result"
    }
   ],
   "source": [
    "contents"
   ]
  },
  {
   "cell_type": "markdown",
   "id": "699aab5d",
   "metadata": {},
   "source": [
    "### Reading Writing, and Appending Modes\n",
    "\n",
    "- mode = 'r' is read only\n",
    "- mode = 'w' is write only (will overwrite files or create new)\n",
    "- mode = 'a' is append only (will add onto files)\n",
    "- mode = 'r+' is reading and writing \n",
    "- mode = 'w+' is writing and reading (overwrites existing files or creates new files)"
   ]
  },
  {
   "cell_type": "code",
   "execution_count": 8,
   "id": "e231fab4",
   "metadata": {},
   "outputs": [
    {
     "name": "stdout",
     "output_type": "stream",
     "text": [
      "Writing my_new_file.txt\n"
     ]
    }
   ],
   "source": [
    "%%writefile my_new_file.txt\n",
    "ONE ON FIRST\n",
    "TWO ON SECOND\n",
    "THREE ON THIRD"
   ]
  },
  {
   "cell_type": "code",
   "execution_count": 9,
   "id": "b120f8bc",
   "metadata": {},
   "outputs": [
    {
     "name": "stdout",
     "output_type": "stream",
     "text": [
      "ONE ON FIRST\n",
      "TWO ON SECOND\n",
      "THREE ON THIRD\n",
      "\n"
     ]
    }
   ],
   "source": [
    "with open('my_new_file.txt', mode='r') as f:\n",
    "    print(f.read())"
   ]
  },
  {
   "cell_type": "code",
   "execution_count": 10,
   "id": "9de65ac0",
   "metadata": {},
   "outputs": [],
   "source": [
    "with open('my_new_file.txt', mode='a') as f: #append means cursor is already at the end and therefore will add to the last\n",
    "    f.write('FOUR ON FORTH')"
   ]
  },
  {
   "cell_type": "code",
   "execution_count": 11,
   "id": "aefa575c",
   "metadata": {},
   "outputs": [
    {
     "name": "stdout",
     "output_type": "stream",
     "text": [
      "ONE ON FIRST\n",
      "TWO ON SECOND\n",
      "THREE ON THIRD\n",
      "FOUR ON FORTH\n"
     ]
    }
   ],
   "source": [
    "with open('my_new_file.txt', mode='r') as f:\n",
    "    print(f.read())"
   ]
  },
  {
   "cell_type": "code",
   "execution_count": 19,
   "id": "3f645fd4",
   "metadata": {},
   "outputs": [],
   "source": [
    "with open('ffjkdhajsdfhasjd.txt', mode='w') as f: \n",
    "    f.write('I CREATED THIS FILE!\\nSince it did not exist yet, it made a new one.\\nIs that not cool?')"
   ]
  },
  {
   "cell_type": "code",
   "execution_count": 20,
   "id": "b6fa5bf9",
   "metadata": {},
   "outputs": [
    {
     "name": "stdout",
     "output_type": "stream",
     "text": [
      "I CREATED THIS FILE!\n",
      "Since it did not exist yet, it made a new one.\n",
      "Is that not cool?\n"
     ]
    }
   ],
   "source": [
    "with open('ffjkdhajsdfhasjd.txt', mode='r') as f:\n",
    "    print(f.read())"
   ]
  },
  {
   "cell_type": "code",
   "execution_count": null,
   "id": "4b819d1a",
   "metadata": {},
   "outputs": [],
   "source": []
  }
 ],
 "metadata": {
  "kernelspec": {
   "display_name": "Python 3 (ipykernel)",
   "language": "python",
   "name": "python3"
  },
  "language_info": {
   "codemirror_mode": {
    "name": "ipython",
    "version": 3
   },
   "file_extension": ".py",
   "mimetype": "text/x-python",
   "name": "python",
   "nbconvert_exporter": "python",
   "pygments_lexer": "ipython3",
   "version": "3.10.9"
  }
 },
 "nbformat": 4,
 "nbformat_minor": 5
}
