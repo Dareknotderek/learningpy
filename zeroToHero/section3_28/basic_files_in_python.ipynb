{
 "cells": [
  {
   "cell_type": "markdown",
   "id": "acb86f8e",
   "metadata": {},
   "source": [
    "### Files\n",
    "\n",
    "Simple input and output with a basic .txt file. We will also discuss file paths in this lesson. \n",
    "\n",
    "Let's dive in. "
   ]
  },
  {
   "cell_type": "code",
   "execution_count": 2,
   "id": "ffbb96ae",
   "metadata": {},
   "outputs": [
    {
     "name": "stdout",
     "output_type": "stream",
     "text": [
      "Writing myfile.txt\n"
     ]
    }
   ],
   "source": [
    "%%writefile myfile.txt \n",
    "Hello this is a text file\n",
    "this is the second line\n",
    "this is the third line"
   ]
  },
  {
   "cell_type": "markdown",
   "id": "3e93da91",
   "metadata": {},
   "source": [
    "The above command only works in jupyter notebook. ^^"
   ]
  },
  {
   "cell_type": "code",
   "execution_count": 12,
   "id": "06a7897d",
   "metadata": {},
   "outputs": [],
   "source": [
    "myfile = open('myfile.txt')"
   ]
  },
  {
   "cell_type": "code",
   "execution_count": 13,
   "id": "49b2a72b",
   "metadata": {},
   "outputs": [],
   "source": [
    "#myfile = open('whoops not there') - (#)common error, it's in the wrong place or it doesn't exist in the current path"
   ]
  },
  {
   "cell_type": "code",
   "execution_count": 14,
   "id": "2c262d59",
   "metadata": {},
   "outputs": [
    {
     "data": {
      "text/plain": [
       "'C:\\\\Users\\\\dariu\\\\zeroToHero\\\\section3_28'"
      ]
     },
     "execution_count": 14,
     "metadata": {},
     "output_type": "execute_result"
    }
   ],
   "source": [
    "pwd #prints working directory of the notebook, for now, this should be in the same location for text files we want to work with"
   ]
  },
  {
   "cell_type": "code",
   "execution_count": 15,
   "id": "04cf7a54",
   "metadata": {},
   "outputs": [
    {
     "data": {
      "text/plain": [
       "<_io.TextIOWrapper name='myfile.txt' mode='r' encoding='cp1252'>"
      ]
     },
     "execution_count": 15,
     "metadata": {},
     "output_type": "execute_result"
    }
   ],
   "source": [
    "myfile"
   ]
  },
  {
   "cell_type": "code",
   "execution_count": 16,
   "id": "dca81dc5",
   "metadata": {},
   "outputs": [
    {
     "data": {
      "text/plain": [
       "'Hello this is a text file\\nthis is the second line\\nthis is the third line\\n'"
      ]
     },
     "execution_count": 16,
     "metadata": {},
     "output_type": "execute_result"
    }
   ],
   "source": [
    "myfile.read() "
   ]
  },
  {
   "cell_type": "markdown",
   "id": "30938c16",
   "metadata": {},
   "source": [
    "^^ long string with line breaks shown as `\\n` - not always what you want to do since it could be very long"
   ]
  },
  {
   "cell_type": "code",
   "execution_count": 17,
   "id": "d317a617",
   "metadata": {},
   "outputs": [
    {
     "data": {
      "text/plain": [
       "''"
      ]
     },
     "execution_count": 17,
     "metadata": {},
     "output_type": "execute_result"
    }
   ],
   "source": [
    "myfile.read() #this will return an empty string. The cursor is not at the end of the file. Need to reset it"
   ]
  },
  {
   "cell_type": "code",
   "execution_count": 18,
   "id": "619a2677",
   "metadata": {},
   "outputs": [
    {
     "data": {
      "text/plain": [
       "0"
      ]
     },
     "execution_count": 18,
     "metadata": {},
     "output_type": "execute_result"
    }
   ],
   "source": [
    "myfile.seek(0) #resets the cursor"
   ]
  },
  {
   "cell_type": "code",
   "execution_count": 19,
   "id": "0508d361",
   "metadata": {},
   "outputs": [
    {
     "data": {
      "text/plain": [
       "'Hello this is a text file\\nthis is the second line\\nthis is the third line\\n'"
      ]
     },
     "execution_count": 19,
     "metadata": {},
     "output_type": "execute_result"
    }
   ],
   "source": [
    "myfile.read()"
   ]
  },
  {
   "cell_type": "code",
   "execution_count": 20,
   "id": "9cd749ef",
   "metadata": {},
   "outputs": [
    {
     "data": {
      "text/plain": [
       "0"
      ]
     },
     "execution_count": 20,
     "metadata": {},
     "output_type": "execute_result"
    }
   ],
   "source": [
    "myfile.seek(0)"
   ]
  },
  {
   "cell_type": "code",
   "execution_count": 21,
   "id": "40543293",
   "metadata": {},
   "outputs": [],
   "source": [
    "content = myfile.read() #one way of saving this without having to worrk aboutthe cursor"
   ]
  },
  {
   "cell_type": "code",
   "execution_count": 22,
   "id": "55251e72",
   "metadata": {},
   "outputs": [
    {
     "data": {
      "text/plain": [
       "'Hello this is a text file\\nthis is the second line\\nthis is the third line\\n'"
      ]
     },
     "execution_count": 22,
     "metadata": {},
     "output_type": "execute_result"
    }
   ],
   "source": [
    "content"
   ]
  },
  {
   "cell_type": "markdown",
   "id": "efe8666f",
   "metadata": {},
   "source": [
    "Sometimes that string isn't useful at all. So we can use another method instead."
   ]
  },
  {
   "cell_type": "code",
   "execution_count": 23,
   "id": "d4876a5c",
   "metadata": {},
   "outputs": [
    {
     "data": {
      "text/plain": [
       "0"
      ]
     },
     "execution_count": 23,
     "metadata": {},
     "output_type": "execute_result"
    }
   ],
   "source": [
    "myfile.seek(0)"
   ]
  },
  {
   "cell_type": "code",
   "execution_count": 24,
   "id": "586036a6",
   "metadata": {},
   "outputs": [
    {
     "data": {
      "text/plain": [
       "['Hello this is a text file\\n',\n",
       " 'this is the second line\\n',\n",
       " 'this is the third line\\n']"
      ]
     },
     "execution_count": 24,
     "metadata": {},
     "output_type": "execute_result"
    }
   ],
   "source": [
    "myfile.readlines()"
   ]
  },
  {
   "cell_type": "markdown",
   "id": "7739504d",
   "metadata": {},
   "source": [
    "Each line is now a separate object, now we can loop through this list of index from it. Very useful later on."
   ]
  },
  {
   "cell_type": "code",
   "execution_count": null,
   "id": "2dbb7085",
   "metadata": {},
   "outputs": [],
   "source": []
  }
 ],
 "metadata": {
  "kernelspec": {
   "display_name": "Python 3 (ipykernel)",
   "language": "python",
   "name": "python3"
  },
  "language_info": {
   "codemirror_mode": {
    "name": "ipython",
    "version": 3
   },
   "file_extension": ".py",
   "mimetype": "text/x-python",
   "name": "python",
   "nbconvert_exporter": "python",
   "pygments_lexer": "ipython3",
   "version": "3.10.9"
  }
 },
 "nbformat": 4,
 "nbformat_minor": 5
}
