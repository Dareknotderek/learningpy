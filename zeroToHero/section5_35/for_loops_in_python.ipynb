{
 "cells": [
  {
   "cell_type": "markdown",
   "id": "da787522",
   "metadata": {},
   "source": [
    "## For Loops in Python\n",
    "\n",
    "Many items in Python are \"iterable\", meaning we can iterate over every element in the object. \n",
    "\n",
    "Examples: elments in a list, every key in a dictionary, or every character in a string. \n",
    "\n",
    "For loops can execute a block of code for every iteration. \n",
    "\n",
    "The term **iterable** means you can iterate over the object. You can perform an action for every thing in that object. Think of it going through something. \n",
    "\n",
    "Example: wanting to print out every letter in the string. \n",
    "\n",
    "Syntax of a for loop:\n",
    "\n",
    "`my_iterable = [1,2,3]\n",
    "\n",
    "for item_name in my_iterable:\n",
    "\n",
    "    print(item_name)\n",
    "\n",
    ">> 1\n",
    "\n",
    ">> 2\n",
    "\n",
    ">> 3`\n",
    "\n",
    "`item_name` is a placeholder variable for every single item in that object you're iterating over. \n",
    "\n",
    "Let's take a look at this with some code. "
   ]
  },
  {
   "cell_type": "code",
   "execution_count": 1,
   "id": "4edbc206",
   "metadata": {},
   "outputs": [],
   "source": [
    "mylist = [1,2,3,4,5,6,7,8,9,10]"
   ]
  },
  {
   "cell_type": "code",
   "execution_count": 2,
   "id": "f447bc51",
   "metadata": {},
   "outputs": [
    {
     "name": "stdout",
     "output_type": "stream",
     "text": [
      "1\n",
      "2\n",
      "3\n",
      "4\n",
      "5\n",
      "6\n",
      "7\n",
      "8\n",
      "9\n",
      "10\n"
     ]
    }
   ],
   "source": [
    "for num in mylist: #we choose the variable name, this case is `num` - but the variable name can be whatever we want.\n",
    "    print(num) #this will print each item in the list."
   ]
  },
  {
   "cell_type": "code",
   "execution_count": 3,
   "id": "b31c32e8",
   "metadata": {},
   "outputs": [
    {
     "name": "stdout",
     "output_type": "stream",
     "text": [
      "hello\n",
      "hello\n",
      "hello\n",
      "hello\n",
      "hello\n",
      "hello\n",
      "hello\n",
      "hello\n",
      "hello\n",
      "hello\n"
     ]
    }
   ],
   "source": [
    "for num in mylist: \n",
    "    print('hello') #we don't need to use the assigned variable, it can perform a different action FOR each item in object"
   ]
  },
  {
   "cell_type": "code",
   "execution_count": 4,
   "id": "bea7abe5",
   "metadata": {},
   "outputs": [
    {
     "name": "stdout",
     "output_type": "stream",
     "text": [
      "2\n",
      "4\n",
      "6\n",
      "8\n",
      "10\n"
     ]
    }
   ],
   "source": [
    "for num in mylist:\n",
    "    #check even numbers\n",
    "    if num %2 == 0: #checks if it is even. `%` is \"mod\" and checks for remainders. if no remainder, it is even.\n",
    "        print(num)"
   ]
  },
  {
   "cell_type": "code",
   "execution_count": 7,
   "id": "a4347ea6",
   "metadata": {},
   "outputs": [
    {
     "name": "stdout",
     "output_type": "stream",
     "text": [
      "Odd Number: 1\n",
      "2\n",
      "Odd Number: 3\n",
      "4\n",
      "Odd Number: 5\n",
      "6\n",
      "Odd Number: 7\n",
      "8\n",
      "Odd Number: 9\n",
      "10\n"
     ]
    }
   ],
   "source": [
    "for num in mylist:\n",
    "    #check even numbers\n",
    "    if num %2 == 0: #checks if it is even. `%` is \"mod\" and checks for remainders. if no remainder, it is even.\n",
    "        print(num)\n",
    "    else: #will return odd numbers with the following text\n",
    "        print(f'Odd Number: {num}') #look at the f string literals fow how this works"
   ]
  },
  {
   "cell_type": "code",
   "execution_count": 9,
   "id": "d4d236fa",
   "metadata": {},
   "outputs": [
    {
     "name": "stdout",
     "output_type": "stream",
     "text": [
      "55\n"
     ]
    }
   ],
   "source": [
    "list_sum = 0\n",
    "\n",
    "for num in mylist:\n",
    "    list_sum = list_sum + num #takes old value and adds it. since it's a for loop it keeps iterating until it runs out of items.\n",
    "    \n",
    "print(list_sum)"
   ]
  },
  {
   "cell_type": "code",
   "execution_count": 10,
   "id": "9055f619",
   "metadata": {},
   "outputs": [
    {
     "name": "stdout",
     "output_type": "stream",
     "text": [
      "1\n",
      "3\n",
      "6\n",
      "10\n",
      "15\n",
      "21\n",
      "28\n",
      "36\n",
      "45\n",
      "55\n"
     ]
    }
   ],
   "source": [
    "list_sum = 0\n",
    "\n",
    "for num in mylist:\n",
    "    list_sum = list_sum + num \n",
    "    print(list_sum) #indenttion is important, we get a running tally this way, in the for loop"
   ]
  },
  {
   "cell_type": "code",
   "execution_count": 11,
   "id": "c45aa8f1",
   "metadata": {},
   "outputs": [
    {
     "name": "stdout",
     "output_type": "stream",
     "text": [
      "H\n",
      "e\n",
      "l\n",
      "l\n",
      "o\n",
      " \n",
      "W\n",
      "o\n",
      "r\n",
      "l\n",
      "d\n"
     ]
    }
   ],
   "source": [
    "mystring = \"Hello World\"\n",
    "for letter in mystring:\n",
    "    print(letter)"
   ]
  },
  {
   "cell_type": "code",
   "execution_count": 12,
   "id": "59b54e81",
   "metadata": {},
   "outputs": [
    {
     "name": "stdout",
     "output_type": "stream",
     "text": [
      "H\n",
      "e\n",
      "l\n",
      "l\n",
      "o\n",
      " \n",
      "W\n",
      "o\n",
      "r\n",
      "l\n",
      "d\n"
     ]
    }
   ],
   "source": [
    "for letter in \"Hello World\": #can also be done with assigning a variable. \n",
    "    print(letter)"
   ]
  },
  {
   "cell_type": "code",
   "execution_count": 14,
   "id": "7bcf54ee",
   "metadata": {},
   "outputs": [
    {
     "name": "stdout",
     "output_type": "stream",
     "text": [
      "Cool!\n",
      "Cool!\n",
      "Cool!\n",
      "Cool!\n",
      "Cool!\n",
      "Cool!\n",
      "Cool!\n",
      "Cool!\n",
      "Cool!\n",
      "Cool!\n",
      "Cool!\n"
     ]
    }
   ],
   "source": [
    "for _ in \"Hello World\": #more advanced pythonistas might use this syntax with `_` to iterate through a list without intending\n",
    "    print(\"Cool!\") #to use the variable name as they iterate through. This is for readability"
   ]
  },
  {
   "cell_type": "code",
   "execution_count": 16,
   "id": "c2a01411",
   "metadata": {},
   "outputs": [
    {
     "name": "stdout",
     "output_type": "stream",
     "text": [
      "1\n",
      "2\n",
      "3\n"
     ]
    }
   ],
   "source": [
    "tup = (1,2,3)\n",
    "for item in tup:\n",
    "    print(item)"
   ]
  },
  {
   "cell_type": "markdown",
   "id": "ad29544a",
   "metadata": {},
   "source": [
    "**Tuples have a sepecial use case of Tuple Unpacking. Let's take a look.**"
   ]
  },
  {
   "cell_type": "code",
   "execution_count": 17,
   "id": "8fecf5cd",
   "metadata": {},
   "outputs": [],
   "source": [
    "mylist = [(1,2), (3,4), (5,6), (7,8)] #this is a list of tuples. They are each a single item. "
   ]
  },
  {
   "cell_type": "code",
   "execution_count": 18,
   "id": "63d5cd94",
   "metadata": {},
   "outputs": [
    {
     "data": {
      "text/plain": [
       "4"
      ]
     },
     "execution_count": 18,
     "metadata": {},
     "output_type": "execute_result"
    }
   ],
   "source": [
    "len(mylist)"
   ]
  },
  {
   "cell_type": "code",
   "execution_count": 20,
   "id": "79fb560a",
   "metadata": {},
   "outputs": [
    {
     "name": "stdout",
     "output_type": "stream",
     "text": [
      "(1, 2)\n",
      "(3, 4)\n",
      "(5, 6)\n",
      "(7, 8)\n"
     ]
    }
   ],
   "source": [
    "for item in mylist:\n",
    "    print(item) #we will see the tuple pairs here since they are each an item. "
   ]
  },
  {
   "cell_type": "code",
   "execution_count": 21,
   "id": "2194059b",
   "metadata": {},
   "outputs": [
    {
     "name": "stdout",
     "output_type": "stream",
     "text": [
      "1\n",
      "2\n",
      "3\n",
      "4\n",
      "5\n",
      "6\n",
      "7\n",
      "8\n"
     ]
    }
   ],
   "source": [
    "for (a,b) in mylist: #we can make a variable that _looks_ like a tuple for this. \n",
    "    print(a) #prints the first\n",
    "    print(b) #prints second, then loops\n",
    "\n",
    "#tuple unpacks here."
   ]
  },
  {
   "cell_type": "code",
   "execution_count": 22,
   "id": "991daaa2",
   "metadata": {},
   "outputs": [
    {
     "name": "stdout",
     "output_type": "stream",
     "text": [
      "1\n",
      "3\n",
      "5\n",
      "7\n"
     ]
    }
   ],
   "source": [
    "for a,b in mylist: #you don't even need to have the para's for this to work. \n",
    "    print(a) #will print the first in the tuples\n",
    "    "
   ]
  },
  {
   "cell_type": "code",
   "execution_count": 23,
   "id": "6864f33c",
   "metadata": {},
   "outputs": [
    {
     "name": "stdout",
     "output_type": "stream",
     "text": [
      "2\n",
      "4\n",
      "6\n",
      "8\n"
     ]
    }
   ],
   "source": [
    "for a,b in mylist:\n",
    "    print(b) #will print the second in the tuple"
   ]
  },
  {
   "cell_type": "markdown",
   "id": "89e402d4",
   "metadata": {},
   "source": [
    "**UWAGA** We will be using tuple unpacking a lot due to functions that have it built in. "
   ]
  },
  {
   "cell_type": "code",
   "execution_count": 24,
   "id": "864682fa",
   "metadata": {},
   "outputs": [],
   "source": [
    "mylist = [(1,2,3), (4,5,6), (7,8,9)]"
   ]
  },
  {
   "cell_type": "code",
   "execution_count": 25,
   "id": "0513f9e7",
   "metadata": {},
   "outputs": [
    {
     "name": "stdout",
     "output_type": "stream",
     "text": [
      "(1, 2, 3)\n",
      "(4, 5, 6)\n",
      "(7, 8, 9)\n"
     ]
    }
   ],
   "source": [
    "for item in mylist:\n",
    "    print(item) #prints the 3 tuples with all their contents"
   ]
  },
  {
   "cell_type": "code",
   "execution_count": 26,
   "id": "27c1d728",
   "metadata": {},
   "outputs": [
    {
     "name": "stdout",
     "output_type": "stream",
     "text": [
      "2\n",
      "5\n",
      "8\n"
     ]
    }
   ],
   "source": [
    "for a,b,c in mylist:\n",
    "    print(b) #will print out 2, 5, 8"
   ]
  },
  {
   "cell_type": "markdown",
   "id": "bc6803b5",
   "metadata": {},
   "source": [
    "**We can also** iterate through a dictionary"
   ]
  },
  {
   "cell_type": "code",
   "execution_count": 31,
   "id": "9b5667d2",
   "metadata": {},
   "outputs": [
    {
     "name": "stdout",
     "output_type": "stream",
     "text": [
      "k1\n",
      "k2\n",
      "k3\n"
     ]
    }
   ],
   "source": [
    "d = {'k1':1, 'k2': 2, 'k3':3}\n",
    "\n",
    "for item in d:\n",
    "    print(item) #prints the key by default, not all or not values"
   ]
  },
  {
   "cell_type": "code",
   "execution_count": 33,
   "id": "6f1066a1",
   "metadata": {},
   "outputs": [
    {
     "name": "stdout",
     "output_type": "stream",
     "text": [
      "('k1', 1)\n",
      "('k2', 2)\n",
      "('k3', 3)\n"
     ]
    }
   ],
   "source": [
    "for item in d.items(): #to work with the whole dictionary, need to use function `.items()` on the dictionary variable name.\n",
    "    print(item)"
   ]
  },
  {
   "cell_type": "code",
   "execution_count": 35,
   "id": "c94687fd",
   "metadata": {},
   "outputs": [
    {
     "name": "stdout",
     "output_type": "stream",
     "text": [
      "1\n",
      "2\n",
      "3\n"
     ]
    }
   ],
   "source": [
    "for key,value in d.items(): #make iteration variable pair similar to structure in dictionary  \n",
    "    print(value) #this calls the values only - using tuple unpacking"
   ]
  },
  {
   "cell_type": "code",
   "execution_count": 38,
   "id": "4105e21d",
   "metadata": {},
   "outputs": [
    {
     "name": "stdout",
     "output_type": "stream",
     "text": [
      "k1\n",
      "k2\n",
      "k3\n"
     ]
    }
   ],
   "source": [
    "for key in d.keys(): #calls only keys with `.keys()`\n",
    "    print(key)"
   ]
  },
  {
   "cell_type": "code",
   "execution_count": 39,
   "id": "aba1cee4",
   "metadata": {},
   "outputs": [
    {
     "name": "stdout",
     "output_type": "stream",
     "text": [
      "1\n",
      "2\n",
      "3\n"
     ]
    }
   ],
   "source": [
    "for value in d.values(): #calls only values with `.values()`\n",
    "    print(value)"
   ]
  },
  {
   "cell_type": "markdown",
   "id": "2923a2db",
   "metadata": {},
   "source": [
    "**UWAGA** Dictionaries are unordered. It is unlikely they will be ordred they way you want immediately if it is a larger dictionary. "
   ]
  },
  {
   "cell_type": "code",
   "execution_count": null,
   "id": "702dbce6",
   "metadata": {},
   "outputs": [],
   "source": []
  }
 ],
 "metadata": {
  "kernelspec": {
   "display_name": "Python 3 (ipykernel)",
   "language": "python",
   "name": "python3"
  },
  "language_info": {
   "codemirror_mode": {
    "name": "ipython",
    "version": 3
   },
   "file_extension": ".py",
   "mimetype": "text/x-python",
   "name": "python",
   "nbconvert_exporter": "python",
   "pygments_lexer": "ipython3",
   "version": "3.10.9"
  }
 },
 "nbformat": 4,
 "nbformat_minor": 5
}
