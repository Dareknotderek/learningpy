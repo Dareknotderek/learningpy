{
 "cells": [
  {
   "cell_type": "markdown",
   "id": "836ea055",
   "metadata": {},
   "source": [
    "### Immutability & Concatination"
   ]
  },
  {
   "cell_type": "code",
   "execution_count": 3,
   "id": "35e942a9",
   "metadata": {},
   "outputs": [],
   "source": [
    "name = \"Sam\""
   ]
  },
  {
   "cell_type": "code",
   "execution_count": 6,
   "id": "6327a49c",
   "metadata": {},
   "outputs": [],
   "source": [
    "#name[0] = \"P\" - cannot do this, will throw an error. strings cannot support item assignment"
   ]
  },
  {
   "cell_type": "code",
   "execution_count": 7,
   "id": "92701558",
   "metadata": {},
   "outputs": [],
   "source": [
    "last_letters = name[1:] #use concatination and functions withing the string object that it does support"
   ]
  },
  {
   "cell_type": "code",
   "execution_count": 9,
   "id": "1cb15e47",
   "metadata": {},
   "outputs": [
    {
     "data": {
      "text/plain": [
       "'am'"
      ]
     },
     "execution_count": 9,
     "metadata": {},
     "output_type": "execute_result"
    }
   ],
   "source": [
    "last_letters #can tab to auto compete/run through options "
   ]
  },
  {
   "cell_type": "code",
   "execution_count": 11,
   "id": "de138ba8",
   "metadata": {},
   "outputs": [
    {
     "data": {
      "text/plain": [
       "'Pam'"
      ]
     },
     "execution_count": 11,
     "metadata": {},
     "output_type": "execute_result"
    }
   ],
   "source": [
    "\"P\" + last_letters #string concat, take something from immutable, add to that in new way"
   ]
  },
  {
   "cell_type": "code",
   "execution_count": 14,
   "id": "fc288f33",
   "metadata": {},
   "outputs": [],
   "source": [
    "x=\"Hello World\"\n",
    "x = x + \" it is beautiful outside.\""
   ]
  },
  {
   "cell_type": "code",
   "execution_count": 15,
   "id": "89d2348b",
   "metadata": {},
   "outputs": [
    {
     "data": {
      "text/plain": [
       "'Hello World it is beautiful outside.'"
      ]
     },
     "execution_count": 15,
     "metadata": {},
     "output_type": "execute_result"
    }
   ],
   "source": [
    "x"
   ]
  },
  {
   "cell_type": "code",
   "execution_count": 17,
   "id": "800bbcde",
   "metadata": {},
   "outputs": [],
   "source": [
    "letter = \"z\" "
   ]
  },
  {
   "cell_type": "code",
   "execution_count": 19,
   "id": "e90c689e",
   "metadata": {},
   "outputs": [
    {
     "name": "stdout",
     "output_type": "stream",
     "text": [
      "zzzzzzzzzz\n"
     ]
    }
   ],
   "source": [
    "print(letter*10) #multipe string concat"
   ]
  },
  {
   "cell_type": "code",
   "execution_count": 21,
   "id": "1a8bca37",
   "metadata": {},
   "outputs": [
    {
     "data": {
      "text/plain": [
       "5"
      ]
     },
     "execution_count": 21,
     "metadata": {},
     "output_type": "execute_result"
    }
   ],
   "source": [
    "2+3"
   ]
  },
  {
   "cell_type": "code",
   "execution_count": 22,
   "id": "b0454038",
   "metadata": {},
   "outputs": [
    {
     "data": {
      "text/plain": [
       "'23'"
      ]
     },
     "execution_count": 22,
     "metadata": {},
     "output_type": "execute_result"
    }
   ],
   "source": [
    "\"2\" + \"3\" #this is dynamic typic. User might input strings, rather than numbers, keep it in mind. "
   ]
  },
  {
   "cell_type": "markdown",
   "id": "f5a478ab",
   "metadata": {},
   "source": [
    "### A few useful methods"
   ]
  },
  {
   "cell_type": "code",
   "execution_count": 24,
   "id": "af2862ce",
   "metadata": {},
   "outputs": [],
   "source": [
    "x = 'Hello World'"
   ]
  },
  {
   "cell_type": "code",
   "execution_count": 27,
   "id": "794bbd3c",
   "metadata": {},
   "outputs": [
    {
     "data": {
      "text/plain": [
       "'HELLO WORLD'"
      ]
     },
     "execution_count": 27,
     "metadata": {},
     "output_type": "execute_result"
    }
   ],
   "source": [
    "x.upper() #hitting `Tab` after adding a period after a defined variable will \n",
    "#list all methods available in notebook on object by type"
   ]
  },
  {
   "cell_type": "code",
   "execution_count": 28,
   "id": "2e5940ca",
   "metadata": {},
   "outputs": [
    {
     "data": {
      "text/plain": [
       "'Hello World'"
      ]
     },
     "execution_count": 28,
     "metadata": {},
     "output_type": "execute_result"
    }
   ],
   "source": [
    "x #this is not `in place`, this is temp, to affect the original string, need to reassign it, true of most methods"
   ]
  },
  {
   "cell_type": "code",
   "execution_count": 29,
   "id": "702cd1e6",
   "metadata": {},
   "outputs": [
    {
     "data": {
      "text/plain": [
       "<function str.upper()>"
      ]
     },
     "execution_count": 29,
     "metadata": {},
     "output_type": "execute_result"
    }
   ],
   "source": [
    "x.upper #this will just have py tell me what it is, rather than executing. Add `()` to execute"
   ]
  },
  {
   "cell_type": "code",
   "execution_count": 30,
   "id": "57a55baa",
   "metadata": {},
   "outputs": [
    {
     "data": {
      "text/plain": [
       "'hello world'"
      ]
     },
     "execution_count": 30,
     "metadata": {},
     "output_type": "execute_result"
    }
   ],
   "source": [
    "x.lower() #this will lower all cases"
   ]
  },
  {
   "cell_type": "code",
   "execution_count": 31,
   "id": "74e045c6",
   "metadata": {},
   "outputs": [
    {
     "data": {
      "text/plain": [
       "['Hello', 'World']"
      ]
     },
     "execution_count": 31,
     "metadata": {},
     "output_type": "execute_result"
    }
   ],
   "source": [
    "x.split() #quickly create list off of a string, based on white space or passed letter, example below"
   ]
  },
  {
   "cell_type": "code",
   "execution_count": 36,
   "id": "c0237e10",
   "metadata": {},
   "outputs": [
    {
     "data": {
      "text/plain": [
       "['Hell', ' W', 'rld']"
      ]
     },
     "execution_count": 36,
     "metadata": {},
     "output_type": "execute_result"
    }
   ],
   "source": [
    "x.split(\"o\") #will name a list based on passed letter, in this case `o`, \n",
    "#it will remove the passed then move on until next passed"
   ]
  },
  {
   "cell_type": "code",
   "execution_count": null,
   "id": "a56134be",
   "metadata": {},
   "outputs": [],
   "source": []
  }
 ],
 "metadata": {
  "kernelspec": {
   "display_name": "Python 3 (ipykernel)",
   "language": "python",
   "name": "python3"
  },
  "language_info": {
   "codemirror_mode": {
    "name": "ipython",
    "version": 3
   },
   "file_extension": ".py",
   "mimetype": "text/x-python",
   "name": "python",
   "nbconvert_exporter": "python",
   "pygments_lexer": "ipython3",
   "version": "3.10.9"
  }
 },
 "nbformat": 4,
 "nbformat_minor": 5
}
