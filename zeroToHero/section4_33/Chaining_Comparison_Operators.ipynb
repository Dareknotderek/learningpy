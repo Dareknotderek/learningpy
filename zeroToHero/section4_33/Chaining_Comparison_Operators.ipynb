{
 "cells": [
  {
   "cell_type": "markdown",
   "id": "213cd2f6",
   "metadata": {},
   "source": [
    "## Chaining Comparison Operators\n",
    "\n",
    "Use logical operators to combine comparions\n",
    "- and\n",
    "- or\n",
    "- not\n",
    "\n",
    "Examples of how to use these below:"
   ]
  },
  {
   "cell_type": "code",
   "execution_count": 1,
   "id": "16932834",
   "metadata": {},
   "outputs": [
    {
     "data": {
      "text/plain": [
       "True"
      ]
     },
     "execution_count": 1,
     "metadata": {},
     "output_type": "execute_result"
    }
   ],
   "source": [
    "1 < 2"
   ]
  },
  {
   "cell_type": "code",
   "execution_count": 2,
   "id": "9a6488cf",
   "metadata": {},
   "outputs": [
    {
     "data": {
      "text/plain": [
       "True"
      ]
     },
     "execution_count": 2,
     "metadata": {},
     "output_type": "execute_result"
    }
   ],
   "source": [
    "2 < 3"
   ]
  },
  {
   "cell_type": "markdown",
   "id": "8cdaaea1",
   "metadata": {},
   "source": [
    "**But** what if we want to check the above at the same time?"
   ]
  },
  {
   "cell_type": "code",
   "execution_count": 3,
   "id": "2233003a",
   "metadata": {},
   "outputs": [
    {
     "data": {
      "text/plain": [
       "True"
      ]
     },
     "execution_count": 3,
     "metadata": {},
     "output_type": "execute_result"
    }
   ],
   "source": [
    "1 < 2 < 3"
   ]
  },
  {
   "cell_type": "code",
   "execution_count": 4,
   "id": "40b2ade9",
   "metadata": {},
   "outputs": [
    {
     "data": {
      "text/plain": [
       "False"
      ]
     },
     "execution_count": 4,
     "metadata": {},
     "output_type": "execute_result"
    }
   ],
   "source": [
    "1 < 2 > 3"
   ]
  },
  {
   "cell_type": "markdown",
   "id": "0b1068ac",
   "metadata": {},
   "source": [
    "**We could** chain together with those, but we can also use a logical operator instead."
   ]
  },
  {
   "cell_type": "code",
   "execution_count": 5,
   "id": "3de871db",
   "metadata": {},
   "outputs": [
    {
     "data": {
      "text/plain": [
       "False"
      ]
     },
     "execution_count": 5,
     "metadata": {},
     "output_type": "execute_result"
    }
   ],
   "source": [
    "1 < 2 and 2 > 3"
   ]
  },
  {
   "cell_type": "code",
   "execution_count": 6,
   "id": "1027dfee",
   "metadata": {},
   "outputs": [
    {
     "data": {
      "text/plain": [
       "True"
      ]
     },
     "execution_count": 6,
     "metadata": {},
     "output_type": "execute_result"
    }
   ],
   "source": [
    "1 < 2 and 2 < 3"
   ]
  },
  {
   "cell_type": "code",
   "execution_count": 7,
   "id": "0ae339b4",
   "metadata": {},
   "outputs": [
    {
     "data": {
      "text/plain": [
       "True"
      ]
     },
     "execution_count": 7,
     "metadata": {},
     "output_type": "execute_result"
    }
   ],
   "source": [
    "'h' == 'h' and 2 == 2"
   ]
  },
  {
   "cell_type": "code",
   "execution_count": 9,
   "id": "767fcd9f",
   "metadata": {},
   "outputs": [
    {
     "data": {
      "text/plain": [
       "True"
      ]
     },
     "execution_count": 9,
     "metadata": {},
     "output_type": "execute_result"
    }
   ],
   "source": [
    "('h' == 'h') and (2 == 2) #some folks use these to make it more readable, there are libraries that require this later"
   ]
  },
  {
   "cell_type": "markdown",
   "id": "5e23e32a",
   "metadata": {},
   "source": [
    "**OR** requires that only one of the booleans to be true to be true, but both false is false"
   ]
  },
  {
   "cell_type": "code",
   "execution_count": 10,
   "id": "7ff32056",
   "metadata": {},
   "outputs": [
    {
     "data": {
      "text/plain": [
       "True"
      ]
     },
     "execution_count": 10,
     "metadata": {},
     "output_type": "execute_result"
    }
   ],
   "source": [
    "1 == 1 or 2 == 2"
   ]
  },
  {
   "cell_type": "code",
   "execution_count": 11,
   "id": "304c8034",
   "metadata": {},
   "outputs": [
    {
     "data": {
      "text/plain": [
       "True"
      ]
     },
     "execution_count": 11,
     "metadata": {},
     "output_type": "execute_result"
    }
   ],
   "source": [
    "1==1 or 3==2"
   ]
  },
  {
   "cell_type": "code",
   "execution_count": 12,
   "id": "a64cb720",
   "metadata": {},
   "outputs": [
    {
     "data": {
      "text/plain": [
       "False"
      ]
     },
     "execution_count": 12,
     "metadata": {},
     "output_type": "execute_result"
    }
   ],
   "source": [
    "100==1 or 1==3"
   ]
  },
  {
   "cell_type": "markdown",
   "id": "0a235341",
   "metadata": {},
   "source": [
    "Logical operators are better at readbility, use these instead as much as possible.\n",
    "\n",
    "**NOT** asks to return the opposite boolean. "
   ]
  },
  {
   "cell_type": "code",
   "execution_count": 13,
   "id": "437e9930",
   "metadata": {},
   "outputs": [
    {
     "data": {
      "text/plain": [
       "False"
      ]
     },
     "execution_count": 13,
     "metadata": {},
     "output_type": "execute_result"
    }
   ],
   "source": [
    "not (1==1) # returns opposite boolean of what is returned"
   ]
  },
  {
   "cell_type": "code",
   "execution_count": 14,
   "id": "455ff23c",
   "metadata": {},
   "outputs": [
    {
     "data": {
      "text/plain": [
       "True"
      ]
     },
     "execution_count": 14,
     "metadata": {},
     "output_type": "execute_result"
    }
   ],
   "source": [
    "not(400>5000)"
   ]
  },
  {
   "cell_type": "code",
   "execution_count": null,
   "id": "1a647f65",
   "metadata": {},
   "outputs": [],
   "source": []
  }
 ],
 "metadata": {
  "kernelspec": {
   "display_name": "Python 3 (ipykernel)",
   "language": "python",
   "name": "python3"
  },
  "language_info": {
   "codemirror_mode": {
    "name": "ipython",
    "version": 3
   },
   "file_extension": ".py",
   "mimetype": "text/x-python",
   "name": "python",
   "nbconvert_exporter": "python",
   "pygments_lexer": "ipython3",
   "version": "3.10.9"
  }
 },
 "nbformat": 4,
 "nbformat_minor": 5
}
