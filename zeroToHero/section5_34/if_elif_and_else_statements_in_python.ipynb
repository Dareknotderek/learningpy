{
 "cells": [
  {
   "cell_type": "markdown",
   "id": "616c6f6f",
   "metadata": {},
   "source": [
    "## if, elif, and else Statements\n",
    "\n",
    "Here, we begin to learn about **control flow** in code.\n",
    "\n",
    "There are many instances where we want to execute (or not) certain code when a particular condition is met.\n",
    "\n",
    "Example in the real world: If I am hungry, Then I will eat. \n",
    "\n",
    "Keywords for logic control here:\n",
    "-`if`\n",
    "-`elif`\n",
    "-`else`\n",
    "\n",
    "Control flow syntax in python uses colons and indentation (whitespace). This is crucial to python and what makes it different than many other programming languages - it is much more readable and easy to prototype. \n",
    "\n",
    "Syntax of an `if` statement:\n",
    "\n",
    "`if some_condition:\n",
    "    \n",
    "    #execute code\n",
    "\n",
    "elif some_other_condition:\n",
    "    \n",
    "    #do something different\n",
    "\n",
    "else:\n",
    "    \n",
    "    #do something else`\n",
    "\n",
    "Let's Code!"
   ]
  },
  {
   "cell_type": "code",
   "execution_count": 1,
   "id": "dc0cf4b5",
   "metadata": {},
   "outputs": [
    {
     "name": "stdout",
     "output_type": "stream",
     "text": [
      "It is true\n"
     ]
    }
   ],
   "source": [
    "if True: #we can use straight booleans here, but it is unlikely it would be just this,\n",
    "    print('It is true')"
   ]
  },
  {
   "cell_type": "code",
   "execution_count": 2,
   "id": "449df268",
   "metadata": {},
   "outputs": [
    {
     "name": "stdout",
     "output_type": "stream",
     "text": [
      "It is true\n"
     ]
    }
   ],
   "source": [
    "if 3>2:\n",
    "    print('It is true')"
   ]
  },
  {
   "cell_type": "code",
   "execution_count": 3,
   "id": "136da173",
   "metadata": {},
   "outputs": [
    {
     "name": "stdout",
     "output_type": "stream",
     "text": [
      "Feed Me\n"
     ]
    }
   ],
   "source": [
    "hungry = True\n",
    "\n",
    "if hungry:\n",
    "    print('Feed Me')"
   ]
  },
  {
   "cell_type": "code",
   "execution_count": 4,
   "id": "514de6b1",
   "metadata": {},
   "outputs": [],
   "source": [
    "hungry = False #won't get anything\n",
    "\n",
    "if hungry:\n",
    "    print('Feed Me')"
   ]
  },
  {
   "cell_type": "code",
   "execution_count": 7,
   "id": "0d83a0df",
   "metadata": {},
   "outputs": [
    {
     "name": "stdout",
     "output_type": "stream",
     "text": [
      "I am not hungry\n"
     ]
    }
   ],
   "source": [
    "hungry = False #will return else.Currently hungry is a boolean\n",
    "\n",
    "if hungry:\n",
    "    print('Feed Me')\n",
    "else:\n",
    "    print('I am not hungry')"
   ]
  },
  {
   "cell_type": "code",
   "execution_count": 9,
   "id": "2a1a93d6",
   "metadata": {},
   "outputs": [
    {
     "name": "stdout",
     "output_type": "stream",
     "text": [
      "I do not know much.\n"
     ]
    }
   ],
   "source": [
    "loc = 'Bank'\n",
    "\n",
    "if loc == 'Auto Shop':\n",
    "    print('Cars are cool!')\n",
    "else:\n",
    "    print('I do not know much.')"
   ]
  },
  {
   "cell_type": "code",
   "execution_count": 11,
   "id": "942ac470",
   "metadata": {},
   "outputs": [
    {
     "name": "stdout",
     "output_type": "stream",
     "text": [
      "Money is cool!\n"
     ]
    }
   ],
   "source": [
    "loc = 'Bank'\n",
    "\n",
    "if loc == 'Auto Shop':\n",
    "    print('Cars are cool!')\n",
    "elif loc == 'Bank': #we can add in many different conditions\n",
    "    print('Money is cool!')\n",
    "elif loc == 'Store':\n",
    "    print('Welcome to the store!')\n",
    "else:\n",
    "    print('I do not know much.')"
   ]
  },
  {
   "cell_type": "code",
   "execution_count": 15,
   "id": "8105af55",
   "metadata": {},
   "outputs": [
    {
     "name": "stdout",
     "output_type": "stream",
     "text": [
      "Hello Sammy\n"
     ]
    }
   ],
   "source": [
    "name = 'Sammy'\n",
    "\n",
    "if name == 'Frankie':\n",
    "    print('Hello Frankie!')\n",
    "elif name == 'Sammy':\n",
    "    print('Hello Sammy')\n",
    "else:\n",
    "    print('What is your name?')"
   ]
  },
  {
   "cell_type": "markdown",
   "id": "e14f9929",
   "metadata": {},
   "source": [
    "**UWAGA** Remember that to set a variable you use `=` and to check parity you use `==`"
   ]
  },
  {
   "cell_type": "code",
   "execution_count": null,
   "id": "155741dd",
   "metadata": {},
   "outputs": [],
   "source": []
  }
 ],
 "metadata": {
  "kernelspec": {
   "display_name": "Python 3 (ipykernel)",
   "language": "python",
   "name": "python3"
  },
  "language_info": {
   "codemirror_mode": {
    "name": "ipython",
    "version": 3
   },
   "file_extension": ".py",
   "mimetype": "text/x-python",
   "name": "python",
   "nbconvert_exporter": "python",
   "pygments_lexer": "ipython3",
   "version": "3.10.9"
  }
 },
 "nbformat": 4,
 "nbformat_minor": 5
}
