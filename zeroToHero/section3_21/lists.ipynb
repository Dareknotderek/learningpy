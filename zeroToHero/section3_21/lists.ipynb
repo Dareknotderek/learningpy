{
 "cells": [
  {
   "cell_type": "markdown",
   "id": "020783b1",
   "metadata": {},
   "source": [
    "### Lists\n",
    "\n",
    "Lists are ordered sequences that can hold a variety of object types. They use square brackets and commas for separation. Lists also support indexing and slicing (like strings). They can be nested to have a variety of useful methods called from them. \n",
    "\n",
    "**Examples:**"
   ]
  },
  {
   "cell_type": "code",
   "execution_count": 1,
   "id": "be14e852",
   "metadata": {},
   "outputs": [],
   "source": [
    "my_list=[1,2,3]"
   ]
  },
  {
   "cell_type": "code",
   "execution_count": 3,
   "id": "60e9f2e8",
   "metadata": {},
   "outputs": [],
   "source": [
    "my_list=[\"String\", 100, 23.2] #can use many different datatypes"
   ]
  },
  {
   "cell_type": "code",
   "execution_count": 5,
   "id": "9eabe2f6",
   "metadata": {},
   "outputs": [
    {
     "data": {
      "text/plain": [
       "3"
      ]
     },
     "execution_count": 5,
     "metadata": {},
     "output_type": "execute_result"
    }
   ],
   "source": [
    "len(my_list) #check on the length of the items in the list"
   ]
  },
  {
   "cell_type": "code",
   "execution_count": 6,
   "id": "cf579df0",
   "metadata": {},
   "outputs": [],
   "source": [
    "mylist= [\"one\", \"two\", \"three\"]"
   ]
  },
  {
   "cell_type": "code",
   "execution_count": 7,
   "id": "6e85cc37",
   "metadata": {},
   "outputs": [
    {
     "data": {
      "text/plain": [
       "'one'"
      ]
     },
     "execution_count": 7,
     "metadata": {},
     "output_type": "execute_result"
    }
   ],
   "source": [
    "mylist[0] #uses index like, will return \"one\""
   ]
  },
  {
   "cell_type": "code",
   "execution_count": 12,
   "id": "000cfa17",
   "metadata": {},
   "outputs": [
    {
     "data": {
      "text/plain": [
       "['two', 'three']"
      ]
     },
     "execution_count": 12,
     "metadata": {},
     "output_type": "execute_result"
    }
   ],
   "source": [
    "mylist[1:] #just like slicing, will return \"two\" and \"three\""
   ]
  },
  {
   "cell_type": "code",
   "execution_count": 13,
   "id": "81460e13",
   "metadata": {},
   "outputs": [
    {
     "data": {
      "text/plain": [
       "['one', 'two', 'three']"
      ]
     },
     "execution_count": 13,
     "metadata": {},
     "output_type": "execute_result"
    }
   ],
   "source": [
    "mylist"
   ]
  },
  {
   "cell_type": "code",
   "execution_count": 14,
   "id": "a70334f8",
   "metadata": {},
   "outputs": [],
   "source": [
    "another_list = [\"four\", \"five\"]"
   ]
  },
  {
   "cell_type": "code",
   "execution_count": 16,
   "id": "6a807827",
   "metadata": {},
   "outputs": [
    {
     "data": {
      "text/plain": [
       "['one', 'two', 'three', 'four', 'five']"
      ]
     },
     "execution_count": 16,
     "metadata": {},
     "output_type": "execute_result"
    }
   ],
   "source": [
    "mylist + another_list #can concatonate lists based on order of operations, dynamic, so it does not save this result"
   ]
  },
  {
   "cell_type": "code",
   "execution_count": 19,
   "id": "8af5268d",
   "metadata": {},
   "outputs": [],
   "source": [
    "new_list = mylist + another_list #creates the new list type, assigned to a new variable"
   ]
  },
  {
   "cell_type": "code",
   "execution_count": 20,
   "id": "deea6f14",
   "metadata": {},
   "outputs": [
    {
     "data": {
      "text/plain": [
       "['one', 'two', 'three', 'four', 'five']"
      ]
     },
     "execution_count": 20,
     "metadata": {},
     "output_type": "execute_result"
    }
   ],
   "source": [
    "new_list"
   ]
  },
  {
   "cell_type": "markdown",
   "id": "f2ab451f",
   "metadata": {},
   "source": [
    "#### Lists are not immutable like strings\n",
    "\n",
    "We can update and move parts of them around. "
   ]
  },
  {
   "cell_type": "code",
   "execution_count": 43,
   "id": "006e158d",
   "metadata": {},
   "outputs": [
    {
     "data": {
      "text/plain": [
       "['ONE', 'two', 'three', 'four', 'five']"
      ]
     },
     "execution_count": 43,
     "metadata": {},
     "output_type": "execute_result"
    }
   ],
   "source": [
    "new_list"
   ]
  },
  {
   "cell_type": "code",
   "execution_count": 44,
   "id": "90eeaf11",
   "metadata": {},
   "outputs": [],
   "source": [
    "new_list[0] = \"ONE\" #let's change one to be in all caps"
   ]
  },
  {
   "cell_type": "code",
   "execution_count": 45,
   "id": "0b59605c",
   "metadata": {},
   "outputs": [
    {
     "data": {
      "text/plain": [
       "['ONE', 'two', 'three', 'four', 'five']"
      ]
     },
     "execution_count": 45,
     "metadata": {},
     "output_type": "execute_result"
    }
   ],
   "source": [
    "new_list"
   ]
  },
  {
   "cell_type": "code",
   "execution_count": 46,
   "id": "b4bdd956",
   "metadata": {},
   "outputs": [],
   "source": [
    "new_list.append(\"six\") #this allows you at add an item to the end of a list - \"in place\" since it is permanent"
   ]
  },
  {
   "cell_type": "code",
   "execution_count": 47,
   "id": "18be413e",
   "metadata": {},
   "outputs": [
    {
     "data": {
      "text/plain": [
       "['ONE', 'two', 'three', 'four', 'five', 'six']"
      ]
     },
     "execution_count": 47,
     "metadata": {},
     "output_type": "execute_result"
    }
   ],
   "source": [
    "new_list"
   ]
  },
  {
   "cell_type": "code",
   "execution_count": 48,
   "id": "820e47ba",
   "metadata": {},
   "outputs": [],
   "source": [
    "new_list.append(\"seven\")"
   ]
  },
  {
   "cell_type": "code",
   "execution_count": 49,
   "id": "ed9a8200",
   "metadata": {},
   "outputs": [
    {
     "data": {
      "text/plain": [
       "['ONE', 'two', 'three', 'four', 'five', 'six', 'seven']"
      ]
     },
     "execution_count": 49,
     "metadata": {},
     "output_type": "execute_result"
    }
   ],
   "source": [
    "new_list"
   ]
  },
  {
   "cell_type": "code",
   "execution_count": 50,
   "id": "33132cd4",
   "metadata": {},
   "outputs": [
    {
     "data": {
      "text/plain": [
       "'seven'"
      ]
     },
     "execution_count": 50,
     "metadata": {},
     "output_type": "execute_result"
    }
   ],
   "source": [
    "new_list.pop() #will remove the last item from the end of the list, returns what what removed - the default is `-1`"
   ]
  },
  {
   "cell_type": "code",
   "execution_count": 51,
   "id": "2646a960",
   "metadata": {},
   "outputs": [
    {
     "data": {
      "text/plain": [
       "['ONE', 'two', 'three', 'four', 'five', 'six']"
      ]
     },
     "execution_count": 51,
     "metadata": {},
     "output_type": "execute_result"
    }
   ],
   "source": [
    "new_list"
   ]
  },
  {
   "cell_type": "code",
   "execution_count": 52,
   "id": "d0eda045",
   "metadata": {},
   "outputs": [],
   "source": [
    "popped_item = new_list.pop()"
   ]
  },
  {
   "cell_type": "code",
   "execution_count": 53,
   "id": "6556d972",
   "metadata": {},
   "outputs": [
    {
     "data": {
      "text/plain": [
       "'six'"
      ]
     },
     "execution_count": 53,
     "metadata": {},
     "output_type": "execute_result"
    }
   ],
   "source": [
    "popped_item"
   ]
  },
  {
   "cell_type": "code",
   "execution_count": 54,
   "id": "1f985186",
   "metadata": {},
   "outputs": [
    {
     "data": {
      "text/plain": [
       "'ONE'"
      ]
     },
     "execution_count": 54,
     "metadata": {},
     "output_type": "execute_result"
    }
   ],
   "source": [
    "new_list.pop(0) #removes/pops the item at the index position, in this case `ONE`"
   ]
  },
  {
   "cell_type": "code",
   "execution_count": 55,
   "id": "0cf67b8e",
   "metadata": {},
   "outputs": [
    {
     "data": {
      "text/plain": [
       "['two', 'three', 'four', 'five']"
      ]
     },
     "execution_count": 55,
     "metadata": {},
     "output_type": "execute_result"
    }
   ],
   "source": [
    "new_list"
   ]
  },
  {
   "cell_type": "code",
   "execution_count": 56,
   "id": "dbf163f0",
   "metadata": {},
   "outputs": [],
   "source": [
    "new_list = ['a', 'e', 'x', 'b', 'c'] #out of alphabetical order\n",
    "num_list = [4,1,8,3] #out of order numerical list"
   ]
  },
  {
   "cell_type": "code",
   "execution_count": 58,
   "id": "98d0aa4e",
   "metadata": {},
   "outputs": [],
   "source": [
    "new_list.sort() #doesn't return, sorts \"in place\""
   ]
  },
  {
   "cell_type": "code",
   "execution_count": 59,
   "id": "e064df7d",
   "metadata": {},
   "outputs": [
    {
     "data": {
      "text/plain": [
       "['a', 'b', 'c', 'e', 'x']"
      ]
     },
     "execution_count": 59,
     "metadata": {},
     "output_type": "execute_result"
    }
   ],
   "source": [
    "new_list"
   ]
  },
  {
   "cell_type": "code",
   "execution_count": 60,
   "id": "0d42f7f6",
   "metadata": {},
   "outputs": [],
   "source": [
    "None #common return value for functions that can't find. Don't assign result from sort. Instead do..."
   ]
  },
  {
   "cell_type": "code",
   "execution_count": 61,
   "id": "dc34c367",
   "metadata": {},
   "outputs": [],
   "source": [
    "new_list.sort()\n",
    "my_sorted_list = new_list"
   ]
  },
  {
   "cell_type": "code",
   "execution_count": 62,
   "id": "a3344079",
   "metadata": {},
   "outputs": [
    {
     "data": {
      "text/plain": [
       "['a', 'b', 'c', 'e', 'x']"
      ]
     },
     "execution_count": 62,
     "metadata": {},
     "output_type": "execute_result"
    }
   ],
   "source": [
    "my_sorted_list"
   ]
  },
  {
   "cell_type": "code",
   "execution_count": 63,
   "id": "fd2b37cd",
   "metadata": {},
   "outputs": [
    {
     "data": {
      "text/plain": [
       "[4, 1, 8, 3]"
      ]
     },
     "execution_count": 63,
     "metadata": {},
     "output_type": "execute_result"
    }
   ],
   "source": [
    "num_list"
   ]
  },
  {
   "cell_type": "code",
   "execution_count": 64,
   "id": "c9bb1cbe",
   "metadata": {},
   "outputs": [],
   "source": [
    "num_list.sort()"
   ]
  },
  {
   "cell_type": "code",
   "execution_count": 65,
   "id": "48c9cf15",
   "metadata": {},
   "outputs": [
    {
     "data": {
      "text/plain": [
       "[1, 3, 4, 8]"
      ]
     },
     "execution_count": 65,
     "metadata": {},
     "output_type": "execute_result"
    }
   ],
   "source": [
    "num_list"
   ]
  },
  {
   "cell_type": "code",
   "execution_count": 70,
   "id": "b7062696",
   "metadata": {},
   "outputs": [],
   "source": [
    "num_list.reverse() #reverses in place"
   ]
  },
  {
   "cell_type": "code",
   "execution_count": 71,
   "id": "f62659a2",
   "metadata": {},
   "outputs": [
    {
     "data": {
      "text/plain": [
       "[8, 4, 3, 1]"
      ]
     },
     "execution_count": 71,
     "metadata": {},
     "output_type": "execute_result"
    }
   ],
   "source": [
    "num_list"
   ]
  },
  {
   "cell_type": "code",
   "execution_count": null,
   "id": "bed6a459",
   "metadata": {},
   "outputs": [],
   "source": []
  }
 ],
 "metadata": {
  "kernelspec": {
   "display_name": "Python 3 (ipykernel)",
   "language": "python",
   "name": "python3"
  },
  "language_info": {
   "codemirror_mode": {
    "name": "ipython",
    "version": 3
   },
   "file_extension": ".py",
   "mimetype": "text/x-python",
   "name": "python",
   "nbconvert_exporter": "python",
   "pygments_lexer": "ipython3",
   "version": "3.10.9"
  }
 },
 "nbformat": 4,
 "nbformat_minor": 5
}
